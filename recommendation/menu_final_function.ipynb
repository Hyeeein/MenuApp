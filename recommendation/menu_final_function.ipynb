{
 "cells": [
  {
   "cell_type": "code",
   "execution_count": 3,
   "id": "f79e129c",
   "metadata": {},
   "outputs": [],
   "source": [
    "import random\n",
    "import pandas as pd\n",
    "from sklearn.feature_extraction import text\n",
    "from sklearn.metrics.pairwise import cosine_similarity\n",
    "\n",
    "import warnings\n",
    "warnings.filterwarnings('ignore')"
   ]
  },
  {
   "cell_type": "markdown",
   "id": "8da36bf8",
   "metadata": {},
   "source": [
    "## 데이터 불러오기"
   ]
  },
  {
   "cell_type": "code",
   "execution_count": 137,
   "id": "e0c0b622",
   "metadata": {},
   "outputs": [
    {
     "data": {
      "text/html": [
       "<div>\n",
       "<style scoped>\n",
       "    .dataframe tbody tr th:only-of-type {\n",
       "        vertical-align: middle;\n",
       "    }\n",
       "\n",
       "    .dataframe tbody tr th {\n",
       "        vertical-align: top;\n",
       "    }\n",
       "\n",
       "    .dataframe thead th {\n",
       "        text-align: right;\n",
       "    }\n",
       "</style>\n",
       "<table border=\"1\" class=\"dataframe\">\n",
       "  <thead>\n",
       "    <tr style=\"text-align: right;\">\n",
       "      <th></th>\n",
       "      <th>id</th>\n",
       "      <th>category</th>\n",
       "      <th>name</th>\n",
       "      <th>price</th>\n",
       "      <th>emotion</th>\n",
       "      <th>weather</th>\n",
       "      <th>image</th>\n",
       "      <th>restaurant_id</th>\n",
       "    </tr>\n",
       "  </thead>\n",
       "  <tbody>\n",
       "    <tr>\n",
       "      <th>0</th>\n",
       "      <td>1</td>\n",
       "      <td>국밥</td>\n",
       "      <td>양평해장국</td>\n",
       "      <td>9000</td>\n",
       "      <td>배고픔,기쁨,피곤,스트레스</td>\n",
       "      <td>맑음,구름,비,눈</td>\n",
       "      <td>menu/Restaurant object (1)/양평해장국.jpg</td>\n",
       "      <td>1</td>\n",
       "    </tr>\n",
       "    <tr>\n",
       "      <th>1</th>\n",
       "      <td>2</td>\n",
       "      <td>국밥</td>\n",
       "      <td>양평해장국(특)</td>\n",
       "      <td>10000</td>\n",
       "      <td>배고픔,기쁨,피곤,스트레스</td>\n",
       "      <td>맑음,구름,비,눈</td>\n",
       "      <td>menu/Restaurant object (1)/양평해장국특.jpg</td>\n",
       "      <td>1</td>\n",
       "    </tr>\n",
       "    <tr>\n",
       "      <th>2</th>\n",
       "      <td>3</td>\n",
       "      <td>국밥</td>\n",
       "      <td>뼈다귀해장국</td>\n",
       "      <td>10000</td>\n",
       "      <td>배고픔,기쁨,피곤,스트레스</td>\n",
       "      <td>맑음,구름,비,눈</td>\n",
       "      <td>menu/Restaurant object (1)/뼈다귀해장국.jpg</td>\n",
       "      <td>1</td>\n",
       "    </tr>\n",
       "    <tr>\n",
       "      <th>3</th>\n",
       "      <td>4</td>\n",
       "      <td>국밥</td>\n",
       "      <td>얼큰순대국</td>\n",
       "      <td>9000</td>\n",
       "      <td>배고픔,기쁨,피곤,스트레스</td>\n",
       "      <td>맑음,구름,비,눈</td>\n",
       "      <td>menu/Restaurant object (1)/얼큰순대국.jpg</td>\n",
       "      <td>1</td>\n",
       "    </tr>\n",
       "    <tr>\n",
       "      <th>4</th>\n",
       "      <td>5</td>\n",
       "      <td>국밥</td>\n",
       "      <td>내장탕</td>\n",
       "      <td>13000</td>\n",
       "      <td>배고픔,기쁨,피곤,스트레스</td>\n",
       "      <td>맑음,구름,비,눈</td>\n",
       "      <td>menu/Restaurant object (1)/내장탕.jpg</td>\n",
       "      <td>1</td>\n",
       "    </tr>\n",
       "  </tbody>\n",
       "</table>\n",
       "</div>"
      ],
      "text/plain": [
       "   id category      name  price         emotion    weather  \\\n",
       "0   1       국밥     양평해장국   9000  배고픔,기쁨,피곤,스트레스  맑음,구름,비,눈   \n",
       "1   2       국밥  양평해장국(특)  10000  배고픔,기쁨,피곤,스트레스  맑음,구름,비,눈   \n",
       "2   3       국밥    뼈다귀해장국  10000  배고픔,기쁨,피곤,스트레스  맑음,구름,비,눈   \n",
       "3   4       국밥     얼큰순대국   9000  배고픔,기쁨,피곤,스트레스  맑음,구름,비,눈   \n",
       "4   5       국밥       내장탕  13000  배고픔,기쁨,피곤,스트레스  맑음,구름,비,눈   \n",
       "\n",
       "                                   image  restaurant_id  \n",
       "0   menu/Restaurant object (1)/양평해장국.jpg              1  \n",
       "1  menu/Restaurant object (1)/양평해장국특.jpg              1  \n",
       "2  menu/Restaurant object (1)/뼈다귀해장국.jpg              1  \n",
       "3   menu/Restaurant object (1)/얼큰순대국.jpg              1  \n",
       "4     menu/Restaurant object (1)/내장탕.jpg              1  "
      ]
     },
     "execution_count": 137,
     "metadata": {},
     "output_type": "execute_result"
    }
   ],
   "source": [
    "menu = pd.read_csv('../../Capston/data/menu.csv', encoding='utf-8')\n",
    "menu.head()"
   ]
  },
  {
   "cell_type": "code",
   "execution_count": 138,
   "id": "ef80ad4b",
   "metadata": {},
   "outputs": [
    {
     "name": "stdout",
     "output_type": "stream",
     "text": [
      "<class 'pandas.core.frame.DataFrame'>\n",
      "RangeIndex: 323 entries, 0 to 322\n",
      "Data columns (total 8 columns):\n",
      " #   Column         Non-Null Count  Dtype \n",
      "---  ------         --------------  ----- \n",
      " 0   id             323 non-null    int64 \n",
      " 1   category       323 non-null    object\n",
      " 2   name           323 non-null    object\n",
      " 3   price          323 non-null    int64 \n",
      " 4   emotion        323 non-null    object\n",
      " 5   weather        323 non-null    object\n",
      " 6   image          251 non-null    object\n",
      " 7   restaurant_id  323 non-null    int64 \n",
      "dtypes: int64(3), object(5)\n",
      "memory usage: 20.3+ KB\n"
     ]
    }
   ],
   "source": [
    "menu.info()"
   ]
  },
  {
   "cell_type": "code",
   "execution_count": 112,
   "id": "69113584",
   "metadata": {},
   "outputs": [
    {
     "data": {
      "text/html": [
       "<div>\n",
       "<style scoped>\n",
       "    .dataframe tbody tr th:only-of-type {\n",
       "        vertical-align: middle;\n",
       "    }\n",
       "\n",
       "    .dataframe tbody tr th {\n",
       "        vertical-align: top;\n",
       "    }\n",
       "\n",
       "    .dataframe thead th {\n",
       "        text-align: right;\n",
       "    }\n",
       "</style>\n",
       "<table border=\"1\" class=\"dataframe\">\n",
       "  <thead>\n",
       "    <tr style=\"text-align: right;\">\n",
       "      <th></th>\n",
       "      <th>id</th>\n",
       "      <th>name</th>\n",
       "      <th>gram</th>\n",
       "      <th>calorie</th>\n",
       "      <th>carbohydrate</th>\n",
       "      <th>protein</th>\n",
       "      <th>fat</th>\n",
       "      <th>saturatedfat</th>\n",
       "      <th>unsaturatedfat</th>\n",
       "      <th>cholesterol</th>\n",
       "      <th>sodium</th>\n",
       "      <th>potash</th>\n",
       "      <th>ingredient</th>\n",
       "      <th>allergy</th>\n",
       "      <th>menu_id</th>\n",
       "    </tr>\n",
       "  </thead>\n",
       "  <tbody>\n",
       "    <tr>\n",
       "      <th>0</th>\n",
       "      <td>1</td>\n",
       "      <td>뼈해장국</td>\n",
       "      <td>300.0</td>\n",
       "      <td>315.0</td>\n",
       "      <td>7.10</td>\n",
       "      <td>39.940</td>\n",
       "      <td>13.540</td>\n",
       "      <td>4.480</td>\n",
       "      <td>6.0900</td>\n",
       "      <td>106.0</td>\n",
       "      <td>2420.0</td>\n",
       "      <td>626.0</td>\n",
       "      <td>돼지고기, 우거지, 대파, 마늘</td>\n",
       "      <td>고기</td>\n",
       "      <td>3</td>\n",
       "    </tr>\n",
       "    <tr>\n",
       "      <th>1</th>\n",
       "      <td>2</td>\n",
       "      <td>양평해장국</td>\n",
       "      <td>500.0</td>\n",
       "      <td>662.0</td>\n",
       "      <td>16.47</td>\n",
       "      <td>83.210</td>\n",
       "      <td>28.560</td>\n",
       "      <td>9.360</td>\n",
       "      <td>12.7370</td>\n",
       "      <td>222.0</td>\n",
       "      <td>4199.0</td>\n",
       "      <td>1363.0</td>\n",
       "      <td>마늘, 생강, 대파</td>\n",
       "      <td>NaN</td>\n",
       "      <td>1</td>\n",
       "    </tr>\n",
       "    <tr>\n",
       "      <th>2</th>\n",
       "      <td>3</td>\n",
       "      <td>양평해장국(특)</td>\n",
       "      <td>600.0</td>\n",
       "      <td>794.4</td>\n",
       "      <td>197.64</td>\n",
       "      <td>99.852</td>\n",
       "      <td>34.272</td>\n",
       "      <td>11.232</td>\n",
       "      <td>15.2844</td>\n",
       "      <td>266.0</td>\n",
       "      <td>5039.0</td>\n",
       "      <td>1636.0</td>\n",
       "      <td>마늘, 생강, 대파</td>\n",
       "      <td>NaN</td>\n",
       "      <td>2</td>\n",
       "    </tr>\n",
       "    <tr>\n",
       "      <th>3</th>\n",
       "      <td>4</td>\n",
       "      <td>얼큰순대국</td>\n",
       "      <td>300.0</td>\n",
       "      <td>328.0</td>\n",
       "      <td>33.78</td>\n",
       "      <td>23.250</td>\n",
       "      <td>10.350</td>\n",
       "      <td>3.615</td>\n",
       "      <td>3.1450</td>\n",
       "      <td>439.0</td>\n",
       "      <td>1953.0</td>\n",
       "      <td>485.0</td>\n",
       "      <td>순대, 사골, 마늘, 대파, 쌀, 돼지고기</td>\n",
       "      <td>고기</td>\n",
       "      <td>4</td>\n",
       "    </tr>\n",
       "    <tr>\n",
       "      <th>4</th>\n",
       "      <td>5</td>\n",
       "      <td>육개장</td>\n",
       "      <td>200.0</td>\n",
       "      <td>165.0</td>\n",
       "      <td>10.45</td>\n",
       "      <td>14.320</td>\n",
       "      <td>7.570</td>\n",
       "      <td>2.083</td>\n",
       "      <td>3.2890</td>\n",
       "      <td>20.0</td>\n",
       "      <td>720.0</td>\n",
       "      <td>429.0</td>\n",
       "      <td>소고기, 고사리, 대파, 숙주</td>\n",
       "      <td>NaN</td>\n",
       "      <td>6</td>\n",
       "    </tr>\n",
       "  </tbody>\n",
       "</table>\n",
       "</div>"
      ],
      "text/plain": [
       "   id      name   gram  calorie  carbohydrate  protein     fat  saturatedfat  \\\n",
       "0   1      뼈해장국  300.0    315.0          7.10   39.940  13.540         4.480   \n",
       "1   2     양평해장국  500.0    662.0         16.47   83.210  28.560         9.360   \n",
       "2   3  양평해장국(특)  600.0    794.4        197.64   99.852  34.272        11.232   \n",
       "3   4     얼큰순대국  300.0    328.0         33.78   23.250  10.350         3.615   \n",
       "4   5       육개장  200.0    165.0         10.45   14.320   7.570         2.083   \n",
       "\n",
       "   unsaturatedfat  cholesterol  sodium  potash               ingredient  \\\n",
       "0          6.0900        106.0  2420.0   626.0        돼지고기, 우거지, 대파, 마늘   \n",
       "1         12.7370        222.0  4199.0  1363.0               마늘, 생강, 대파   \n",
       "2         15.2844        266.0  5039.0  1636.0               마늘, 생강, 대파   \n",
       "3          3.1450        439.0  1953.0   485.0  순대, 사골, 마늘, 대파, 쌀, 돼지고기   \n",
       "4          3.2890         20.0   720.0   429.0         소고기, 고사리, 대파, 숙주   \n",
       "\n",
       "  allergy  menu_id  \n",
       "0      고기        3  \n",
       "1     NaN        1  \n",
       "2     NaN        2  \n",
       "3      고기        4  \n",
       "4     NaN        6  "
      ]
     },
     "execution_count": 112,
     "metadata": {},
     "output_type": "execute_result"
    }
   ],
   "source": [
    "nutrient_menu = pd.read_csv('../../Capston/data/nutrient.csv')\n",
    "nutrient_menu.head()"
   ]
  },
  {
   "cell_type": "code",
   "execution_count": 113,
   "id": "bbdfde8f",
   "metadata": {},
   "outputs": [
    {
     "name": "stdout",
     "output_type": "stream",
     "text": [
      "<class 'pandas.core.frame.DataFrame'>\n",
      "RangeIndex: 323 entries, 0 to 322\n",
      "Data columns (total 15 columns):\n",
      " #   Column          Non-Null Count  Dtype  \n",
      "---  ------          --------------  -----  \n",
      " 0   id              323 non-null    int64  \n",
      " 1   name            323 non-null    object \n",
      " 2   gram            323 non-null    float64\n",
      " 3   calorie         323 non-null    float64\n",
      " 4   carbohydrate    260 non-null    float64\n",
      " 5   protein         323 non-null    float64\n",
      " 6   fat             260 non-null    float64\n",
      " 7   saturatedfat    287 non-null    float64\n",
      " 8   unsaturatedfat  136 non-null    float64\n",
      " 9   cholesterol     188 non-null    float64\n",
      " 10  sodium          317 non-null    float64\n",
      " 11  potash          149 non-null    float64\n",
      " 12  ingredient      323 non-null    object \n",
      " 13  allergy         287 non-null    object \n",
      " 14  menu_id         323 non-null    int64  \n",
      "dtypes: float64(10), int64(2), object(3)\n",
      "memory usage: 38.0+ KB\n"
     ]
    }
   ],
   "source": [
    "nutrient_menu.info()"
   ]
  },
  {
   "cell_type": "code",
   "execution_count": 13,
   "id": "1e8fac3d",
   "metadata": {},
   "outputs": [
    {
     "data": {
      "text/html": [
       "<div>\n",
       "<style scoped>\n",
       "    .dataframe tbody tr th:only-of-type {\n",
       "        vertical-align: middle;\n",
       "    }\n",
       "\n",
       "    .dataframe tbody tr th {\n",
       "        vertical-align: top;\n",
       "    }\n",
       "\n",
       "    .dataframe thead th {\n",
       "        text-align: right;\n",
       "    }\n",
       "</style>\n",
       "<table border=\"1\" class=\"dataframe\">\n",
       "  <thead>\n",
       "    <tr style=\"text-align: right;\">\n",
       "      <th></th>\n",
       "      <th>id</th>\n",
       "      <th>name</th>\n",
       "      <th>address</th>\n",
       "      <th>business_hours</th>\n",
       "      <th>phone_number</th>\n",
       "      <th>category_name</th>\n",
       "      <th>image</th>\n",
       "      <th>longitude</th>\n",
       "      <th>latitude</th>\n",
       "    </tr>\n",
       "  </thead>\n",
       "  <tbody>\n",
       "    <tr>\n",
       "      <th>0</th>\n",
       "      <td>1</td>\n",
       "      <td>일품양평해장국 인천대점</td>\n",
       "      <td>인천 연수구 송도동 13-58</td>\n",
       "      <td>10:00 ~ 22:00</td>\n",
       "      <td>032-214-0359</td>\n",
       "      <td>음식점 &gt; 한식 &gt; 해장국 &gt; 일품양평해장국</td>\n",
       "      <td>restaurant/일품양평해장국로고.jpg</td>\n",
       "      <td>126.636</td>\n",
       "      <td>37.3740</td>\n",
       "    </tr>\n",
       "    <tr>\n",
       "      <th>1</th>\n",
       "      <td>2</td>\n",
       "      <td>스노우폭스 송도점</td>\n",
       "      <td>인천 연수구 송도동 13-58</td>\n",
       "      <td>07:30 ~ 20:00</td>\n",
       "      <td>032-710-6464</td>\n",
       "      <td>음식점 &gt; 일식 &gt; 초밥,롤</td>\n",
       "      <td>restaurant/스노우폭스_로고.jpg</td>\n",
       "      <td>126.637</td>\n",
       "      <td>37.3740</td>\n",
       "    </tr>\n",
       "    <tr>\n",
       "      <th>2</th>\n",
       "      <td>3</td>\n",
       "      <td>오백국수 송도인천대점</td>\n",
       "      <td>인천 연수구 송도동 13-58</td>\n",
       "      <td>11:00 ~ 20:00</td>\n",
       "      <td>032-859-7788</td>\n",
       "      <td>음식점 &gt; 한식 &gt; 국수</td>\n",
       "      <td>restaurant/오백국수로고.jpg</td>\n",
       "      <td>126.637</td>\n",
       "      <td>37.3740</td>\n",
       "    </tr>\n",
       "    <tr>\n",
       "      <th>3</th>\n",
       "      <td>4</td>\n",
       "      <td>맘스터치 인천대제3기숙사점</td>\n",
       "      <td>인천 연수구 송도동 12-1</td>\n",
       "      <td>11:00 ~ 20:00</td>\n",
       "      <td>032-858-3211</td>\n",
       "      <td>음식점 &gt; 패스트푸드 &gt; 맘스터치</td>\n",
       "      <td>restaurant/맘스터치로고.jpg</td>\n",
       "      <td>126.630</td>\n",
       "      <td>37.3732</td>\n",
       "    </tr>\n",
       "    <tr>\n",
       "      <th>4</th>\n",
       "      <td>5</td>\n",
       "      <td>샐러디 인천대점</td>\n",
       "      <td>인천 연수구 송도동 12-1</td>\n",
       "      <td>10:00 ~ 20:00</td>\n",
       "      <td>070-4155-2222</td>\n",
       "      <td>음식점 &gt; 샐러드 &gt; 샐러디</td>\n",
       "      <td>restaurant/샐러디.jpg</td>\n",
       "      <td>126.632</td>\n",
       "      <td>37.3729</td>\n",
       "    </tr>\n",
       "  </tbody>\n",
       "</table>\n",
       "</div>"
      ],
      "text/plain": [
       "   id            name           address business_hours   phone_number  \\\n",
       "0   1    일품양평해장국 인천대점  인천 연수구 송도동 13-58  10:00 ~ 22:00   032-214-0359   \n",
       "1   2       스노우폭스 송도점  인천 연수구 송도동 13-58  07:30 ~ 20:00   032-710-6464   \n",
       "2   3     오백국수 송도인천대점  인천 연수구 송도동 13-58  11:00 ~ 20:00   032-859-7788   \n",
       "3   4  맘스터치 인천대제3기숙사점   인천 연수구 송도동 12-1  11:00 ~ 20:00   032-858-3211   \n",
       "4   5        샐러디 인천대점   인천 연수구 송도동 12-1  10:00 ~ 20:00  070-4155-2222   \n",
       "\n",
       "              category_name                     image  longitude  latitude  \n",
       "0  음식점 > 한식 > 해장국 > 일품양평해장국  restaurant/일품양평해장국로고.jpg    126.636   37.3740  \n",
       "1           음식점 > 일식 > 초밥,롤   restaurant/스노우폭스_로고.jpg    126.637   37.3740  \n",
       "2             음식점 > 한식 > 국수     restaurant/오백국수로고.jpg    126.637   37.3740  \n",
       "3        음식점 > 패스트푸드 > 맘스터치     restaurant/맘스터치로고.jpg    126.630   37.3732  \n",
       "4           음식점 > 샐러드 > 샐러디        restaurant/샐러디.jpg    126.632   37.3729  "
      ]
     },
     "execution_count": 13,
     "metadata": {},
     "output_type": "execute_result"
    }
   ],
   "source": [
    "restaurant = pd.read_csv('../../Capston/data/restaurant.csv')\n",
    "restaurant.head()"
   ]
  },
  {
   "cell_type": "code",
   "execution_count": 14,
   "id": "1de1db0e",
   "metadata": {},
   "outputs": [
    {
     "name": "stdout",
     "output_type": "stream",
     "text": [
      "<class 'pandas.core.frame.DataFrame'>\n",
      "RangeIndex: 18 entries, 0 to 17\n",
      "Data columns (total 9 columns):\n",
      " #   Column          Non-Null Count  Dtype  \n",
      "---  ------          --------------  -----  \n",
      " 0   id              18 non-null     int64  \n",
      " 1   name            18 non-null     object \n",
      " 2   address         18 non-null     object \n",
      " 3   business_hours  18 non-null     object \n",
      " 4   phone_number    8 non-null      object \n",
      " 5   category_name   18 non-null     object \n",
      " 6   image           7 non-null      object \n",
      " 7   longitude       18 non-null     float64\n",
      " 8   latitude        18 non-null     float64\n",
      "dtypes: float64(2), int64(1), object(6)\n",
      "memory usage: 1.4+ KB\n"
     ]
    }
   ],
   "source": [
    "restaurant.info()"
   ]
  },
  {
   "cell_type": "markdown",
   "id": "82449b7b",
   "metadata": {},
   "source": [
    "## 임의의 사용자 정보 작성"
   ]
  },
  {
   "cell_type": "code",
   "execution_count": 15,
   "id": "01e8838c",
   "metadata": {},
   "outputs": [
    {
     "data": {
      "text/html": [
       "<div>\n",
       "<style scoped>\n",
       "    .dataframe tbody tr th:only-of-type {\n",
       "        vertical-align: middle;\n",
       "    }\n",
       "\n",
       "    .dataframe tbody tr th {\n",
       "        vertical-align: top;\n",
       "    }\n",
       "\n",
       "    .dataframe thead th {\n",
       "        text-align: right;\n",
       "    }\n",
       "</style>\n",
       "<table border=\"1\" class=\"dataframe\">\n",
       "  <thead>\n",
       "    <tr style=\"text-align: right;\">\n",
       "      <th></th>\n",
       "      <th>id</th>\n",
       "      <th>email</th>\n",
       "      <th>username</th>\n",
       "      <th>nickname</th>\n",
       "      <th>gender</th>\n",
       "      <th>age</th>\n",
       "    </tr>\n",
       "  </thead>\n",
       "  <tbody>\n",
       "    <tr>\n",
       "      <th>0</th>\n",
       "      <td>1</td>\n",
       "      <td>abc</td>\n",
       "      <td>a</td>\n",
       "      <td>a</td>\n",
       "      <td>male</td>\n",
       "      <td>23</td>\n",
       "    </tr>\n",
       "    <tr>\n",
       "      <th>1</th>\n",
       "      <td>2</td>\n",
       "      <td>dfe</td>\n",
       "      <td>b</td>\n",
       "      <td>b</td>\n",
       "      <td>female</td>\n",
       "      <td>24</td>\n",
       "    </tr>\n",
       "    <tr>\n",
       "      <th>2</th>\n",
       "      <td>3</td>\n",
       "      <td>efg</td>\n",
       "      <td>c</td>\n",
       "      <td>c</td>\n",
       "      <td>male</td>\n",
       "      <td>25</td>\n",
       "    </tr>\n",
       "    <tr>\n",
       "      <th>3</th>\n",
       "      <td>4</td>\n",
       "      <td>hij</td>\n",
       "      <td>d</td>\n",
       "      <td>d</td>\n",
       "      <td>male</td>\n",
       "      <td>26</td>\n",
       "    </tr>\n",
       "    <tr>\n",
       "      <th>4</th>\n",
       "      <td>5</td>\n",
       "      <td>lmn</td>\n",
       "      <td>e</td>\n",
       "      <td>e</td>\n",
       "      <td>female</td>\n",
       "      <td>27</td>\n",
       "    </tr>\n",
       "  </tbody>\n",
       "</table>\n",
       "</div>"
      ],
      "text/plain": [
       "   id email username nickname  gender  age\n",
       "0   1   abc        a        a    male   23\n",
       "1   2   dfe        b        b  female   24\n",
       "2   3   efg        c        c    male   25\n",
       "3   4   hij        d        d    male   26\n",
       "4   5   lmn        e        e  female   27"
      ]
     },
     "execution_count": 15,
     "metadata": {},
     "output_type": "execute_result"
    }
   ],
   "source": [
    "user = pd.DataFrame({'id' : [1, 2, 3, 4, 5],\n",
    "                     'email' : ['abc', 'dfe', 'efg', 'hij', 'lmn'],\n",
    "                     'username' : ['a', 'b', 'c', 'd', 'e'],\n",
    "                     'nickname' : ['a', 'b', 'c', 'd', 'e'],\n",
    "                     'gender' : ['male', 'female', 'male', 'male', 'female'],\n",
    "                     'age' : [23, 24, 25, 26, 27]})\n",
    "user"
   ]
  },
  {
   "cell_type": "code",
   "execution_count": 16,
   "id": "2edc18d9",
   "metadata": {
    "scrolled": false
   },
   "outputs": [
    {
     "data": {
      "text/html": [
       "<div>\n",
       "<style scoped>\n",
       "    .dataframe tbody tr th:only-of-type {\n",
       "        vertical-align: middle;\n",
       "    }\n",
       "\n",
       "    .dataframe tbody tr th {\n",
       "        vertical-align: top;\n",
       "    }\n",
       "\n",
       "    .dataframe thead th {\n",
       "        text-align: right;\n",
       "    }\n",
       "</style>\n",
       "<table border=\"1\" class=\"dataframe\">\n",
       "  <thead>\n",
       "    <tr style=\"text-align: right;\">\n",
       "      <th></th>\n",
       "      <th>email</th>\n",
       "      <th>달걀</th>\n",
       "      <th>우유</th>\n",
       "      <th>밀</th>\n",
       "      <th>콩</th>\n",
       "      <th>땅콩</th>\n",
       "      <th>생선</th>\n",
       "      <th>고기</th>\n",
       "      <th>조개</th>\n",
       "      <th>갑각류</th>\n",
       "    </tr>\n",
       "  </thead>\n",
       "  <tbody>\n",
       "    <tr>\n",
       "      <th>0</th>\n",
       "      <td>abc</td>\n",
       "      <td>0</td>\n",
       "      <td>1</td>\n",
       "      <td>0</td>\n",
       "      <td>0</td>\n",
       "      <td>0</td>\n",
       "      <td>1</td>\n",
       "      <td>0</td>\n",
       "      <td>0</td>\n",
       "      <td>1</td>\n",
       "    </tr>\n",
       "    <tr>\n",
       "      <th>1</th>\n",
       "      <td>dfe</td>\n",
       "      <td>0</td>\n",
       "      <td>1</td>\n",
       "      <td>0</td>\n",
       "      <td>0</td>\n",
       "      <td>0</td>\n",
       "      <td>1</td>\n",
       "      <td>0</td>\n",
       "      <td>0</td>\n",
       "      <td>0</td>\n",
       "    </tr>\n",
       "    <tr>\n",
       "      <th>2</th>\n",
       "      <td>efg</td>\n",
       "      <td>0</td>\n",
       "      <td>0</td>\n",
       "      <td>0</td>\n",
       "      <td>1</td>\n",
       "      <td>0</td>\n",
       "      <td>0</td>\n",
       "      <td>0</td>\n",
       "      <td>0</td>\n",
       "      <td>0</td>\n",
       "    </tr>\n",
       "    <tr>\n",
       "      <th>3</th>\n",
       "      <td>hij</td>\n",
       "      <td>0</td>\n",
       "      <td>0</td>\n",
       "      <td>0</td>\n",
       "      <td>0</td>\n",
       "      <td>0</td>\n",
       "      <td>0</td>\n",
       "      <td>0</td>\n",
       "      <td>0</td>\n",
       "      <td>0</td>\n",
       "    </tr>\n",
       "    <tr>\n",
       "      <th>4</th>\n",
       "      <td>lmn</td>\n",
       "      <td>0</td>\n",
       "      <td>0</td>\n",
       "      <td>1</td>\n",
       "      <td>0</td>\n",
       "      <td>1</td>\n",
       "      <td>0</td>\n",
       "      <td>0</td>\n",
       "      <td>1</td>\n",
       "      <td>0</td>\n",
       "    </tr>\n",
       "  </tbody>\n",
       "</table>\n",
       "</div>"
      ],
      "text/plain": [
       "  email  달걀  우유  밀  콩  땅콩  생선  고기  조개  갑각류\n",
       "0   abc   0   1  0  0   0   1   0   0    1\n",
       "1   dfe   0   1  0  0   0   1   0   0    0\n",
       "2   efg   0   0  0  1   0   0   0   0    0\n",
       "3   hij   0   0  0  0   0   0   0   0    0\n",
       "4   lmn   0   0  1  0   1   0   0   1    0"
      ]
     },
     "execution_count": 16,
     "metadata": {},
     "output_type": "execute_result"
    }
   ],
   "source": [
    "user_allergy = pd.DataFrame({'email' : ['abc', 'dfe', 'efg', 'hij', 'lmn'],\n",
    "                             '달걀': [0, 0, 0, 0, 0],\n",
    "                             '우유': [1, 1, 0, 0 ,0],\n",
    "                             '밀': [0, 0, 0, 0, 1],\n",
    "                             '콩': [0, 0, 1, 0, 0], \n",
    "                             '땅콩': [0, 0, 0, 0, 1], \n",
    "                             '생선': [1, 1, 0, 0, 0], \n",
    "                             '고기': [0, 0, 0, 0, 0], \n",
    "                             '조개': [0, 0, 0, 0, 1],\n",
    "                             '갑각류': [1, 0, 0, 0, 0]})\n",
    "user_allergy"
   ]
  },
  {
   "cell_type": "markdown",
   "id": "d756811e",
   "metadata": {},
   "source": [
    "## 기능별 함수 작성"
   ]
  },
  {
   "cell_type": "markdown",
   "id": "0d864a09",
   "metadata": {},
   "source": [
    "### [기능 1] 사용자 정보에서 알러지 정보 제외하고 추천"
   ]
  },
  {
   "cell_type": "code",
   "execution_count": 17,
   "id": "a139b2e7",
   "metadata": {},
   "outputs": [
    {
     "name": "stdout",
     "output_type": "stream",
     "text": [
      "['email', '달걀', '우유', '밀', '콩', '땅콩', '생선', '고기', '조개', '갑각류']\n"
     ]
    }
   ],
   "source": [
    "allergy_list = list(user_allergy)\n",
    "print(allergy_list)"
   ]
  },
  {
   "cell_type": "code",
   "execution_count": 18,
   "id": "1fb985c6",
   "metadata": {},
   "outputs": [
    {
     "data": {
      "text/plain": [
       "2"
      ]
     },
     "execution_count": 18,
     "metadata": {},
     "output_type": "execute_result"
    }
   ],
   "source": [
    "# 유저 이메일 받아오기 (임의로 지정)\n",
    "user_email = 'efg'\n",
    "\n",
    "user_index = ''\n",
    "for i in range(len(user)):\n",
    "    if user.iloc[i][1] == user_email:\n",
    "        user_index = i\n",
    "user_index"
   ]
  },
  {
   "cell_type": "code",
   "execution_count": 19,
   "id": "0d29efe4",
   "metadata": {},
   "outputs": [
    {
     "data": {
      "text/plain": [
       "['콩']"
      ]
     },
     "execution_count": 19,
     "metadata": {},
     "output_type": "execute_result"
    }
   ],
   "source": [
    "user_num = len(user)\n",
    "allergy_num = len(allergy_list)\n",
    "\n",
    "# 개인별 알러지 담아둘 리스트\n",
    "personal_allergy = []\n",
    "\n",
    "# 유저 정보에서 알러지에 해당하는 음식 리스트 불러오기\n",
    "for i in range(allergy_num):\n",
    "    \n",
    "    if user_allergy.iloc[user_index][i] == 1:\n",
    "            personal_allergy.append(allergy_list[i])\n",
    "            \n",
    "personal_allergy"
   ]
  },
  {
   "cell_type": "code",
   "execution_count": 20,
   "id": "12c6d72f",
   "metadata": {},
   "outputs": [],
   "source": [
    "# nutrient 파일에서 해당 알러지가 없는 메뉴\n",
    "not_allergy_index = []\n",
    "\n",
    "for i in range(len(nutrient_menu)):\n",
    "    allergy = str( nutrient_menu.iloc[i]['allergy'])\n",
    "    allergy_list = allergy.split(',')\n",
    "    \n",
    "    # 해당 알러지가 있는 메뉴 제외한 메뉴 인덱스 리스트\n",
    "    add_menu = ''\n",
    "    \n",
    "    for j in allergy_list:\n",
    "        if j not in personal_allergy:\n",
    "            add_menu = 1\n",
    "    \n",
    "    if add_menu == 1:\n",
    "        not_allergy_index.append(i)"
   ]
  },
  {
   "cell_type": "code",
   "execution_count": 21,
   "id": "a6816f13",
   "metadata": {},
   "outputs": [
    {
     "data": {
      "text/plain": [
       "235"
      ]
     },
     "execution_count": 21,
     "metadata": {},
     "output_type": "execute_result"
    }
   ],
   "source": [
    "# 알러지 없는 메뉴 중 한 가지 랜덤 선택\n",
    "choice = random.randrange(0, len(not_allergy_index))\n",
    "choice"
   ]
  },
  {
   "cell_type": "code",
   "execution_count": 22,
   "id": "40ce5297",
   "metadata": {},
   "outputs": [
    {
     "data": {
      "text/plain": [
       "id                                                   249\n",
       "category                                             아시안\n",
       "name                                             매콤 물쌀국수\n",
       "price                                               6900\n",
       "emotion                                       적당,피곤,스트레스\n",
       "weather                                        맑음,구름,비,눈\n",
       "image            menu/Restaurant object (12)/매콤_물쌀국수.jpg\n",
       "restaurant_id                                         12\n",
       "Name: 241, dtype: object"
      ]
     },
     "execution_count": 22,
     "metadata": {},
     "output_type": "execute_result"
    }
   ],
   "source": [
    "# 메뉴 추출\n",
    "menu.iloc[not_allergy_index[choice]]"
   ]
  },
  {
   "cell_type": "markdown",
   "id": "bf1d18be",
   "metadata": {},
   "source": [
    "### [기능 2] 사용자가 선택한 예산"
   ]
  },
  {
   "cell_type": "code",
   "execution_count": 25,
   "id": "86530520",
   "metadata": {},
   "outputs": [
    {
     "name": "stdout",
     "output_type": "stream",
     "text": [
      "얼마만큼의 예산을 원하십니까? (입력값 이하) 5000\n"
     ]
    }
   ],
   "source": [
    "# 예산 입력받기\n",
    "want_price = int(input(\"얼마만큼의 예산을 원하십니까? (입력값 이하) \"))"
   ]
  },
  {
   "cell_type": "code",
   "execution_count": 26,
   "id": "9036c0b7",
   "metadata": {},
   "outputs": [
    {
     "name": "stdout",
     "output_type": "stream",
     "text": [
      "[25, 26, 27, 28, 29, 44, 45, 46, 47, 48, 55, 56, 57, 58, 63, 66, 69, 70, 71, 72, 100, 101, 102, 103, 105, 106, 107, 108, 109, 110, 111, 112, 113, 114, 115, 151, 152, 154, 155, 156, 157, 167, 182, 183, 184, 192, 193, 216, 217, 218, 219, 220, 221, 222, 223, 224, 225, 226, 229, 234, 235, 246, 248, 249, 255, 256, 257, 258, 259, 265, 266, 267, 268, 269, 270, 271, 280, 288, 306, 307]\n"
     ]
    }
   ],
   "source": [
    "# 메뉴 리스트에서 해당 예산보다 작은 금액의 메뉴 리스트업\n",
    "menu_num = len(menu['id'])\n",
    "price_menu_index = []\n",
    "\n",
    "for i in range(menu_num):\n",
    "    if menu.iloc[i]['price'] <= want_price:\n",
    "        price_menu_index.append(i)\n",
    "\n",
    "print(price_menu_index)"
   ]
  },
  {
   "cell_type": "code",
   "execution_count": 27,
   "id": "96193ea9",
   "metadata": {},
   "outputs": [
    {
     "data": {
      "text/plain": [
       "60"
      ]
     },
     "execution_count": 27,
     "metadata": {},
     "output_type": "execute_result"
    }
   ],
   "source": [
    "# 원하는 금액에 맞는 메뉴 랜덤 추천\n",
    "choice = random.randrange(0, len(price_menu_index))\n",
    "choice"
   ]
  },
  {
   "cell_type": "code",
   "execution_count": 28,
   "id": "53d004fa",
   "metadata": {},
   "outputs": [
    {
     "data": {
      "text/plain": [
       "id                                                   243\n",
       "category                                              양식\n",
       "name                                            치즈오븐스파게티\n",
       "price                                               5000\n",
       "emotion                                      배고픔,기쁨,스트레스\n",
       "weather                                               맑음\n",
       "image            menu/Restaurant object (9)/치즈오븐스파게티.jpg\n",
       "restaurant_id                                          9\n",
       "Name: 235, dtype: object"
      ]
     },
     "execution_count": 28,
     "metadata": {},
     "output_type": "execute_result"
    }
   ],
   "source": [
    "# 메뉴 추출\n",
    "menu.iloc[price_menu_index[choice]]"
   ]
  },
  {
   "cell_type": "markdown",
   "id": "89b3859f",
   "metadata": {},
   "source": [
    "### [기능 3] 사용자가 선택한 날씨, 기분"
   ]
  },
  {
   "cell_type": "markdown",
   "id": "806fabd5",
   "metadata": {},
   "source": [
    "* 기분 (emotion) : 배고픔, 적당, 기쁨, 피곤, 스트레스\n",
    "* 날씨 (weather) : 맑음, 구름, 비, 눈, 황사"
   ]
  },
  {
   "cell_type": "code",
   "execution_count": 29,
   "id": "8baa79b8",
   "metadata": {},
   "outputs": [
    {
     "name": "stdout",
     "output_type": "stream",
     "text": [
      "오늘의 날씨를 입력해주세요 (맑음, 구름, 비, 눈, 황사 중 하나) : 눈\n"
     ]
    }
   ],
   "source": [
    "# 입력받은 날씨\n",
    "user_weather = input('오늘의 날씨를 입력해주세요 (맑음, 구름, 비, 눈, 황사 중 하나) : ')"
   ]
  },
  {
   "cell_type": "code",
   "execution_count": 30,
   "id": "2bf90e2e",
   "metadata": {},
   "outputs": [
    {
     "data": {
      "text/plain": [
       "49"
      ]
     },
     "execution_count": 30,
     "metadata": {},
     "output_type": "execute_result"
    }
   ],
   "source": [
    "# 메뉴 리스트에서 해당 날씨에 해당하는 메뉴 리스트업\n",
    "menu_weather_list = []\n",
    "\n",
    "for i in range(menu_num):\n",
    "    weather_list = menu.iloc[i]['weather'].split(',')\n",
    "    \n",
    "    add_menu = \"\"\n",
    "    for j in weather_list:\n",
    "        if j == user_weather:\n",
    "            add_menu = 1\n",
    "    \n",
    "    if add_menu == 1:\n",
    "        menu_weather_list.append(i)\n",
    "\n",
    "len(menu_weather_list)"
   ]
  },
  {
   "cell_type": "code",
   "execution_count": 31,
   "id": "f840825a",
   "metadata": {},
   "outputs": [
    {
     "data": {
      "text/plain": [
       "11"
      ]
     },
     "execution_count": 31,
     "metadata": {},
     "output_type": "execute_result"
    }
   ],
   "source": [
    "# 날씨에 맞는 메뉴 랜덤 추천\n",
    "choice = random.randrange(0, len(menu_weather_list))\n",
    "choice"
   ]
  },
  {
   "cell_type": "code",
   "execution_count": 32,
   "id": "ee3d68d2",
   "metadata": {},
   "outputs": [
    {
     "data": {
      "text/plain": [
       "id                                                  41\n",
       "category                                            한식\n",
       "name                                            매생이칼국수\n",
       "price                                             8000\n",
       "emotion                                    배고픔,피곤,스트레스\n",
       "weather                                      맑음,구름,비,눈\n",
       "image            menu/Restaurant object (3)/매생이칼국수.jpg\n",
       "restaurant_id                                        3\n",
       "Name: 37, dtype: object"
      ]
     },
     "execution_count": 32,
     "metadata": {},
     "output_type": "execute_result"
    }
   ],
   "source": [
    "# 메뉴 추출\n",
    "menu.iloc[menu_weather_list[choice]]"
   ]
  },
  {
   "cell_type": "code",
   "execution_count": 33,
   "id": "686ccf66",
   "metadata": {},
   "outputs": [
    {
     "name": "stdout",
     "output_type": "stream",
     "text": [
      "오늘의 기분을 입력해주세요 (배고픔, 적당, 기쁨, 피곤, 스트레스 중 하나) : 기쁨\n"
     ]
    }
   ],
   "source": [
    "# 입력받은 기분\n",
    "user_emotion = input('오늘의 기분을 입력해주세요 (배고픔, 적당, 기쁨, 피곤, 스트레스 중 하나) : ')"
   ]
  },
  {
   "cell_type": "code",
   "execution_count": 34,
   "id": "63b254a3",
   "metadata": {},
   "outputs": [
    {
     "data": {
      "text/plain": [
       "114"
      ]
     },
     "execution_count": 34,
     "metadata": {},
     "output_type": "execute_result"
    }
   ],
   "source": [
    "# 메뉴 리스트에서 해당 기분에 해당하는 메뉴 리스트업\n",
    "menu_emotion_list = []\n",
    "\n",
    "for i in range(menu_num):\n",
    "    emotion_list = menu.iloc[i]['emotion'].split(',')\n",
    "    \n",
    "    add_menu = \"\"\n",
    "    for j in emotion_list:\n",
    "        if j == user_emotion:\n",
    "            add_menu = 1\n",
    "    \n",
    "    if add_menu == 1:\n",
    "        menu_emotion_list.append(i)\n",
    "\n",
    "len(menu_emotion_list)"
   ]
  },
  {
   "cell_type": "code",
   "execution_count": 35,
   "id": "d6db6031",
   "metadata": {},
   "outputs": [
    {
     "data": {
      "text/plain": [
       "8"
      ]
     },
     "execution_count": 35,
     "metadata": {},
     "output_type": "execute_result"
    }
   ],
   "source": [
    "# 날씨에 맞는 메뉴 랜덤 추천\n",
    "choice = random.randrange(0, len(menu_emotion_list))\n",
    "choice"
   ]
  },
  {
   "cell_type": "code",
   "execution_count": 36,
   "id": "df56410a",
   "metadata": {},
   "outputs": [
    {
     "data": {
      "text/plain": [
       "id                                               9\n",
       "category                                        고기\n",
       "name                                            편육\n",
       "price                                         8000\n",
       "emotion                                      적당,기쁨\n",
       "weather                                         맑음\n",
       "image            menu/Restaurant object (1)/편육.jpg\n",
       "restaurant_id                                    1\n",
       "Name: 8, dtype: object"
      ]
     },
     "execution_count": 36,
     "metadata": {},
     "output_type": "execute_result"
    }
   ],
   "source": [
    "# 메뉴 추출\n",
    "menu.iloc[menu_emotion_list[choice]]"
   ]
  },
  {
   "cell_type": "code",
   "execution_count": 37,
   "id": "28c24d73",
   "metadata": {},
   "outputs": [
    {
     "data": {
      "text/plain": [
       "6"
      ]
     },
     "execution_count": 37,
     "metadata": {},
     "output_type": "execute_result"
    }
   ],
   "source": [
    "# 날씨 + 기분 합친 버전\n",
    "weather_emotion_list = []\n",
    "\n",
    "for i in menu_weather_list:\n",
    "    for j in menu_emotion_list:\n",
    "        if i == j:\n",
    "            weather_emotion_list.append(i)\n",
    "\n",
    "len(weather_emotion_list)"
   ]
  },
  {
   "cell_type": "code",
   "execution_count": 38,
   "id": "8afa49b8",
   "metadata": {},
   "outputs": [
    {
     "data": {
      "text/plain": [
       "id                                                  4\n",
       "category                                           국밥\n",
       "name                                            얼큰순대국\n",
       "price                                            9000\n",
       "emotion                                배고픔,기쁨,피곤,스트레스\n",
       "weather                                     맑음,구름,비,눈\n",
       "image            menu/Restaurant object (1)/얼큰순대국.jpg\n",
       "restaurant_id                                       1\n",
       "Name: 3, dtype: object"
      ]
     },
     "execution_count": 38,
     "metadata": {},
     "output_type": "execute_result"
    }
   ],
   "source": [
    "choice = random.randrange(0, len(weather_emotion_list))\n",
    "menu.iloc[weather_emotion_list[choice]]"
   ]
  },
  {
   "cell_type": "markdown",
   "id": "2d92a7fa",
   "metadata": {},
   "source": [
    "### [기능 4] 사용자가 위시리스트에 담은 메뉴를 비교하여 추천"
   ]
  },
  {
   "cell_type": "code",
   "execution_count": 39,
   "id": "4bf6112c",
   "metadata": {},
   "outputs": [
    {
     "data": {
      "text/html": [
       "<div>\n",
       "<style scoped>\n",
       "    .dataframe tbody tr th:only-of-type {\n",
       "        vertical-align: middle;\n",
       "    }\n",
       "\n",
       "    .dataframe tbody tr th {\n",
       "        vertical-align: top;\n",
       "    }\n",
       "\n",
       "    .dataframe thead th {\n",
       "        text-align: right;\n",
       "    }\n",
       "</style>\n",
       "<table border=\"1\" class=\"dataframe\">\n",
       "  <thead>\n",
       "    <tr style=\"text-align: right;\">\n",
       "      <th></th>\n",
       "      <th>preference</th>\n",
       "      <th>user_id</th>\n",
       "      <th>menu_id</th>\n",
       "    </tr>\n",
       "  </thead>\n",
       "  <tbody>\n",
       "    <tr>\n",
       "      <th>0</th>\n",
       "      <td>abc</td>\n",
       "      <td>1</td>\n",
       "      <td>52</td>\n",
       "    </tr>\n",
       "    <tr>\n",
       "      <th>1</th>\n",
       "      <td>dfe</td>\n",
       "      <td>2</td>\n",
       "      <td>42</td>\n",
       "    </tr>\n",
       "    <tr>\n",
       "      <th>2</th>\n",
       "      <td>efg</td>\n",
       "      <td>3</td>\n",
       "      <td>31</td>\n",
       "    </tr>\n",
       "    <tr>\n",
       "      <th>3</th>\n",
       "      <td>hij</td>\n",
       "      <td>4</td>\n",
       "      <td>42</td>\n",
       "    </tr>\n",
       "    <tr>\n",
       "      <th>4</th>\n",
       "      <td>lmn</td>\n",
       "      <td>1</td>\n",
       "      <td>53</td>\n",
       "    </tr>\n",
       "  </tbody>\n",
       "</table>\n",
       "</div>"
      ],
      "text/plain": [
       "  preference user_id menu_id\n",
       "0        abc       1      52\n",
       "1        dfe       2      42\n",
       "2        efg       3      31\n",
       "3        hij       4      42\n",
       "4        lmn       1      53"
      ]
     },
     "execution_count": 39,
     "metadata": {},
     "output_type": "execute_result"
    }
   ],
   "source": [
    "# PreferredMenu에 담긴 메뉴 확인 (임의로 만듦)\n",
    "preferred_menu = pd.DataFrame({'preference' : ['abc', 'dfe', 'efg', 'hij', 'lmn'],\n",
    "                               'user_id' : ['1', '2', '3', '4', '1'],\n",
    "                               'menu_id' : ['52', '42', '31', '42', '53']})\n",
    "preferred_menu"
   ]
  },
  {
   "cell_type": "code",
   "execution_count": 40,
   "id": "1b1e83f7",
   "metadata": {},
   "outputs": [
    {
     "data": {
      "text/plain": [
       "['52', '53']"
      ]
     },
     "execution_count": 40,
     "metadata": {},
     "output_type": "execute_result"
    }
   ],
   "source": [
    "# 유저 아이디 받기 (임의로 설정)\n",
    "user_id = '1'\n",
    "\n",
    "# 해당 유저가 선호하는 음식에 담은 메뉴 정보 불러오기\n",
    "user_prefer_menu = []\n",
    "\n",
    "for i in range(len(preferred_menu)):\n",
    "    if preferred_menu.iloc[i]['user_id'] == '1':\n",
    "        user_prefer_menu.append(preferred_menu.iloc[i]['menu_id'])\n",
    "\n",
    "user_prefer_menu"
   ]
  },
  {
   "cell_type": "code",
   "execution_count": 41,
   "id": "ff738b06",
   "metadata": {},
   "outputs": [
    {
     "data": {
      "text/plain": [
       "[48, 49]"
      ]
     },
     "execution_count": 41,
     "metadata": {},
     "output_type": "execute_result"
    }
   ],
   "source": [
    "# 메뉴 아이디의 인덱스 가져오기\n",
    "prefer_menu_index = []\n",
    "\n",
    "for i in range(len(user_prefer_menu)):\n",
    "    for j in range(len(menu)):\n",
    "        if int(user_prefer_menu[i]) == menu.iloc[j]['id']:\n",
    "            prefer_menu_index.append(j)\n",
    "            \n",
    "prefer_menu_index"
   ]
  },
  {
   "cell_type": "code",
   "execution_count": 42,
   "id": "244a1240",
   "metadata": {},
   "outputs": [
    {
     "data": {
      "text/html": [
       "<div>\n",
       "<style scoped>\n",
       "    .dataframe tbody tr th:only-of-type {\n",
       "        vertical-align: middle;\n",
       "    }\n",
       "\n",
       "    .dataframe tbody tr th {\n",
       "        vertical-align: top;\n",
       "    }\n",
       "\n",
       "    .dataframe thead th {\n",
       "        text-align: right;\n",
       "    }\n",
       "</style>\n",
       "<table border=\"1\" class=\"dataframe\">\n",
       "  <thead>\n",
       "    <tr style=\"text-align: right;\">\n",
       "      <th></th>\n",
       "      <th>id</th>\n",
       "      <th>category</th>\n",
       "      <th>name</th>\n",
       "      <th>price</th>\n",
       "      <th>emotion</th>\n",
       "      <th>weather</th>\n",
       "      <th>image</th>\n",
       "      <th>restaurant_id</th>\n",
       "    </tr>\n",
       "  </thead>\n",
       "  <tbody>\n",
       "    <tr>\n",
       "      <th>48</th>\n",
       "      <td>52</td>\n",
       "      <td>한식</td>\n",
       "      <td>멸치주먹밥</td>\n",
       "      <td>2500</td>\n",
       "      <td>적당</td>\n",
       "      <td>맑음</td>\n",
       "      <td>menu/Restaurant object (3)/멸치주먹밥.jpg</td>\n",
       "      <td>3</td>\n",
       "    </tr>\n",
       "    <tr>\n",
       "      <th>49</th>\n",
       "      <td>53</td>\n",
       "      <td>한식</td>\n",
       "      <td>콩국수(여름메뉴)</td>\n",
       "      <td>8000</td>\n",
       "      <td>배고픔,피곤,스트레스</td>\n",
       "      <td>맑음,구름,비</td>\n",
       "      <td>menu/Restaurant object (3)/콩국수여름메뉴.jpg</td>\n",
       "      <td>3</td>\n",
       "    </tr>\n",
       "  </tbody>\n",
       "</table>\n",
       "</div>"
      ],
      "text/plain": [
       "    id category       name  price      emotion  weather  \\\n",
       "48  52       한식      멸치주먹밥   2500           적당       맑음   \n",
       "49  53       한식  콩국수(여름메뉴)   8000  배고픔,피곤,스트레스  맑음,구름,비   \n",
       "\n",
       "                                     image  restaurant_id  \n",
       "48    menu/Restaurant object (3)/멸치주먹밥.jpg              3  \n",
       "49  menu/Restaurant object (3)/콩국수여름메뉴.jpg              3  "
      ]
     },
     "execution_count": 42,
     "metadata": {},
     "output_type": "execute_result"
    }
   ],
   "source": [
    "# 메뉴 아이디로 메뉴 정보 불러오기 (기본 메뉴정보, 영양정보 속성)\n",
    "prefer_menu = menu.loc[prefer_menu_index]\n",
    "prefer_menu"
   ]
  },
  {
   "cell_type": "markdown",
   "id": "86eab24b",
   "metadata": {},
   "source": [
    "### Feature\n",
    "\n",
    "- 특징 데이터 만들기"
   ]
  },
  {
   "cell_type": "code",
   "execution_count": 135,
   "id": "ffbb1ab0",
   "metadata": {},
   "outputs": [],
   "source": [
    "# nutrient_menu 데이터의 ingredient 피처를 menu_id 기준으로 정렬\n",
    "nutrient_menu = nutrient_menu.sort_values(by=['menu_id'])"
   ]
  },
  {
   "cell_type": "code",
   "execution_count": 147,
   "id": "28b1b58d",
   "metadata": {},
   "outputs": [
    {
     "data": {
      "text/plain": [
       "0                          마늘, 생강, 대파\n",
       "1                          마늘, 생강, 대파\n",
       "2                   돼지고기, 우거지, 대파, 마늘\n",
       "3             순대, 사골, 마늘, 대파, 쌀, 돼지고기\n",
       "4                       내장, 파, 된장, 마늘\n",
       "                    ...              \n",
       "318    새우, 양파, 달걀, 전분가루, 고추장, 마늘, 밀가루\n",
       "319    새우, 양파, 달걀, 전분가루, 고추장, 마늘, 밀가루\n",
       "320    새우, 양파, 달걀, 전분가루, 고추장, 마늘, 밀가루\n",
       "321                 밀가루, 닭고기, 양상추, 치즈\n",
       "322           밀가루, 돼지고기, 토마토, 달걀, 양상추\n",
       "Name: ingredient, Length: 323, dtype: object"
      ]
     },
     "execution_count": 147,
     "metadata": {},
     "output_type": "execute_result"
    }
   ],
   "source": [
    "tmp_df = nutrient_menu['ingredient']\n",
    "tmp_df = tmp_df.reset_index(drop=True)\n",
    "tmp_df"
   ]
  },
  {
   "cell_type": "code",
   "execution_count": 150,
   "id": "8637a797",
   "metadata": {
    "scrolled": false
   },
   "outputs": [
    {
     "data": {
      "text/html": [
       "<div>\n",
       "<style scoped>\n",
       "    .dataframe tbody tr th:only-of-type {\n",
       "        vertical-align: middle;\n",
       "    }\n",
       "\n",
       "    .dataframe tbody tr th {\n",
       "        vertical-align: top;\n",
       "    }\n",
       "\n",
       "    .dataframe thead th {\n",
       "        text-align: right;\n",
       "    }\n",
       "</style>\n",
       "<table border=\"1\" class=\"dataframe\">\n",
       "  <thead>\n",
       "    <tr style=\"text-align: right;\">\n",
       "      <th></th>\n",
       "      <th>id</th>\n",
       "      <th>category</th>\n",
       "      <th>name</th>\n",
       "      <th>price</th>\n",
       "      <th>emotion</th>\n",
       "      <th>weather</th>\n",
       "      <th>image</th>\n",
       "      <th>restaurant_id</th>\n",
       "      <th>feature</th>\n",
       "    </tr>\n",
       "  </thead>\n",
       "  <tbody>\n",
       "    <tr>\n",
       "      <th>318</th>\n",
       "      <td>343</td>\n",
       "      <td>중식</td>\n",
       "      <td>깐소 새우(소)</td>\n",
       "      <td>32000</td>\n",
       "      <td>적당</td>\n",
       "      <td>맑음,구름,황사</td>\n",
       "      <td>NaN</td>\n",
       "      <td>7</td>\n",
       "      <td>중식 깐소 새우(소) 맑음,구름,황사 적당 새우, 양파, 달걀, 전분가루, 고추장,...</td>\n",
       "    </tr>\n",
       "    <tr>\n",
       "      <th>319</th>\n",
       "      <td>344</td>\n",
       "      <td>중식</td>\n",
       "      <td>깐소 새우(중)</td>\n",
       "      <td>48000</td>\n",
       "      <td>적당</td>\n",
       "      <td>맑음,구름,황사</td>\n",
       "      <td>NaN</td>\n",
       "      <td>7</td>\n",
       "      <td>중식 깐소 새우(중) 맑음,구름,황사 적당 새우, 양파, 달걀, 전분가루, 고추장,...</td>\n",
       "    </tr>\n",
       "    <tr>\n",
       "      <th>320</th>\n",
       "      <td>345</td>\n",
       "      <td>중식</td>\n",
       "      <td>깐소 새우(대)</td>\n",
       "      <td>64000</td>\n",
       "      <td>배고픔</td>\n",
       "      <td>맑음,구름,황사</td>\n",
       "      <td>NaN</td>\n",
       "      <td>7</td>\n",
       "      <td>중식 깐소 새우(대) 맑음,구름,황사 배고픔 새우, 양파, 달걀, 전분가루, 고추장...</td>\n",
       "    </tr>\n",
       "    <tr>\n",
       "      <th>321</th>\n",
       "      <td>346</td>\n",
       "      <td>햄버거</td>\n",
       "      <td>딥치즈싸이버거</td>\n",
       "      <td>5100</td>\n",
       "      <td>배고픔,피곤</td>\n",
       "      <td>맑음,구름</td>\n",
       "      <td>NaN</td>\n",
       "      <td>4</td>\n",
       "      <td>햄버거 딥치즈싸이버거 맑음,구름 배고픔,피곤 밀가루, 닭고기, 양상추, 치즈</td>\n",
       "    </tr>\n",
       "    <tr>\n",
       "      <th>322</th>\n",
       "      <td>347</td>\n",
       "      <td>햄버거</td>\n",
       "      <td>에그불고기버거</td>\n",
       "      <td>5200</td>\n",
       "      <td>배고픔,피곤</td>\n",
       "      <td>맑음,구름</td>\n",
       "      <td>NaN</td>\n",
       "      <td>4</td>\n",
       "      <td>햄버거 에그불고기버거 맑음,구름 배고픔,피곤 밀가루, 돼지고기, 토마토, 달걀, 양상추</td>\n",
       "    </tr>\n",
       "  </tbody>\n",
       "</table>\n",
       "</div>"
      ],
      "text/plain": [
       "      id category      name  price emotion   weather image  restaurant_id  \\\n",
       "318  343       중식  깐소 새우(소)  32000      적당  맑음,구름,황사   NaN              7   \n",
       "319  344       중식  깐소 새우(중)  48000      적당  맑음,구름,황사   NaN              7   \n",
       "320  345       중식  깐소 새우(대)  64000     배고픔  맑음,구름,황사   NaN              7   \n",
       "321  346      햄버거   딥치즈싸이버거   5100  배고픔,피곤     맑음,구름   NaN              4   \n",
       "322  347      햄버거   에그불고기버거   5200  배고픔,피곤     맑음,구름   NaN              4   \n",
       "\n",
       "                                               feature  \n",
       "318  중식 깐소 새우(소) 맑음,구름,황사 적당 새우, 양파, 달걀, 전분가루, 고추장,...  \n",
       "319  중식 깐소 새우(중) 맑음,구름,황사 적당 새우, 양파, 달걀, 전분가루, 고추장,...  \n",
       "320  중식 깐소 새우(대) 맑음,구름,황사 배고픔 새우, 양파, 달걀, 전분가루, 고추장...  \n",
       "321         햄버거 딥치즈싸이버거 맑음,구름 배고픔,피곤 밀가루, 닭고기, 양상추, 치즈  \n",
       "322   햄버거 에그불고기버거 맑음,구름 배고픔,피곤 밀가루, 돼지고기, 토마토, 달걀, 양상추  "
      ]
     },
     "execution_count": 150,
     "metadata": {},
     "output_type": "execute_result"
    }
   ],
   "source": [
    "# 메뉴 데이터 특징 피처 만들기\n",
    "menu['feature'] = menu['category'] + \" \" + menu['name'] + \" \" + menu['weather'] + \" \" + menu['emotion'] + \" \" + tmp_df\n",
    "menu.tail()"
   ]
  },
  {
   "cell_type": "code",
   "execution_count": 154,
   "id": "0a89cf51",
   "metadata": {
    "scrolled": true
   },
   "outputs": [
    {
     "data": {
      "text/plain": [
       "0"
      ]
     },
     "execution_count": 154,
     "metadata": {},
     "output_type": "execute_result"
    }
   ],
   "source": [
    "menu.feature.isnull().sum()"
   ]
  },
  {
   "cell_type": "code",
   "execution_count": 169,
   "id": "e0815b78",
   "metadata": {},
   "outputs": [],
   "source": [
    "menu_feature = menu['feature'].tolist()"
   ]
  },
  {
   "cell_type": "code",
   "execution_count": 170,
   "id": "922039cd",
   "metadata": {},
   "outputs": [
    {
     "data": {
      "text/plain": [
       "(323, 486)"
      ]
     },
     "execution_count": 170,
     "metadata": {},
     "output_type": "execute_result"
    }
   ],
   "source": [
    "# TF-IDF Vectorizer Object 구현\n",
    "tfidf = text.TfidfVectorizer(input=menu_feature)\n",
    "tfidf_matrix = tfidf.fit_transform(menu_feature)\n",
    "tfidf_matrix.shape"
   ]
  },
  {
   "cell_type": "code",
   "execution_count": 172,
   "id": "c453e2f9",
   "metadata": {},
   "outputs": [],
   "source": [
    "# 코사인 유사도 계산\n",
    "similarity = cosine_similarity(tfidf_matrix)"
   ]
  },
  {
   "cell_type": "code",
   "execution_count": 182,
   "id": "85d57212",
   "metadata": {},
   "outputs": [
    {
     "data": {
      "text/plain": [
       "feature\n",
       "국밥 양평해장국 맑음,구름,비,눈 배고픔,기쁨,피곤,스트레스 마늘, 생강, 대파                   0\n",
       "국밥 양평해장국(특) 맑음,구름,비,눈 배고픔,기쁨,피곤,스트레스 마늘, 생강, 대파                1\n",
       "국밥 뼈다귀해장국 맑음,구름,비,눈 배고픔,기쁨,피곤,스트레스 돼지고기, 우거지, 대파, 마늘           2\n",
       "국밥 얼큰순대국 맑음,구름,비,눈 배고픔,기쁨,피곤,스트레스 순대, 사골, 마늘, 대파, 쌀, 돼지고기      3\n",
       "국밥 내장탕 맑음,구름,비,눈 배고픔,기쁨,피곤,스트레스 내장, 파, 된장, 마늘                  4\n",
       "                                                            ... \n",
       "중식 깐소 새우(소) 맑음,구름,황사 적당 새우, 양파, 달걀, 전분가루, 고추장, 마늘, 밀가루       318\n",
       "중식 깐소 새우(중) 맑음,구름,황사 적당 새우, 양파, 달걀, 전분가루, 고추장, 마늘, 밀가루       319\n",
       "중식 깐소 새우(대) 맑음,구름,황사 배고픔 새우, 양파, 달걀, 전분가루, 고추장, 마늘, 밀가루      320\n",
       "햄버거 딥치즈싸이버거 맑음,구름 배고픔,피곤 밀가루, 닭고기, 양상추, 치즈                   321\n",
       "햄버거 에그불고기버거 맑음,구름 배고픔,피곤 밀가루, 돼지고기, 토마토, 달걀, 양상추             322\n",
       "Length: 323, dtype: int64"
      ]
     },
     "execution_count": 182,
     "metadata": {},
     "output_type": "execute_result"
    }
   ],
   "source": [
    "indices = pd.Series(menu.index, index=menu.feature).drop_duplicates()\n",
    "indices"
   ]
  },
  {
   "cell_type": "code",
   "execution_count": 183,
   "id": "f9418274",
   "metadata": {},
   "outputs": [],
   "source": [
    "# 가장 유사한 메뉴 추천 함수\n",
    "def rcm_prefer(feature, similarity=similarity):\n",
    "    \n",
    "    # 사용자가 좋아하는 메뉴 특성 계산\n",
    "    index = indices[feature]\n",
    "    \n",
    "    # 유사도 계산\n",
    "    similarity_scores = list(enumerate(similarity[index]))\n",
    "    similarity_scores = sorted(similarity_scores, key=lambda x: x[1], reverse=True)\n",
    "    similarity_scores = similarity_scores[0:10]\n",
    "    restaurantindices = [i[0] for i in similarity_scores]\n",
    "    \n",
    "    return menu['name'].iloc[restaurantindices]"
   ]
  },
  {
   "cell_type": "code",
   "execution_count": 185,
   "id": "359d6725",
   "metadata": {},
   "outputs": [
    {
     "name": "stdout",
     "output_type": "stream",
     "text": [
      "322       에그불고기버거\n",
      "66          불고기버거\n",
      "67       디럭스불고기버거\n",
      "73     텍사스바베큐치킨버거\n",
      "76      청양마요미트볼버거\n",
      "68        새우불고기버거\n",
      "57       양념치킨싸이버거\n",
      "59        싸이플렉스버거\n",
      "63           휠렛버거\n",
      "72       할라피뇨통살버거\n",
      "Name: name, dtype: object\n"
     ]
    }
   ],
   "source": [
    "print(rcm_prefer(\"햄버거 에그불고기버거 맑음,구름 배고픔,피곤 밀가루, 돼지고기, 토마토, 달걀, 양상추\"))"
   ]
  },
  {
   "cell_type": "code",
   "execution_count": null,
   "id": "66658f07",
   "metadata": {},
   "outputs": [],
   "source": []
  }
 ],
 "metadata": {
  "kernelspec": {
   "display_name": "capston",
   "language": "python",
   "name": "capston"
  },
  "language_info": {
   "codemirror_mode": {
    "name": "ipython",
    "version": 3
   },
   "file_extension": ".py",
   "mimetype": "text/x-python",
   "name": "python",
   "nbconvert_exporter": "python",
   "pygments_lexer": "ipython3",
   "version": "3.7.16"
  }
 },
 "nbformat": 4,
 "nbformat_minor": 5
}
