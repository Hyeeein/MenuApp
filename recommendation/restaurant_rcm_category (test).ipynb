{
 "cells": [
  {
   "cell_type": "markdown",
   "metadata": {},
   "source": [
    "## Restaurant Recommendation"
   ]
  },
  {
   "cell_type": "code",
   "execution_count": 7,
   "metadata": {},
   "outputs": [],
   "source": [
    "import numpy as np\n",
    "import pandas as pd\n",
    "from sklearn.feature_extraction import text\n",
    "from sklearn.metrics.pairwise import cosine_similarity\n",
    "\n",
    "import warnings\n",
    "warnings.filterwarnings('ignore')"
   ]
  },
  {
   "cell_type": "markdown",
   "metadata": {},
   "source": [
    "### Import Data"
   ]
  },
  {
   "cell_type": "code",
   "execution_count": 13,
   "metadata": {},
   "outputs": [
    {
     "name": "stdout",
     "output_type": "stream",
     "text": [
      "D:\\[졸작] 캡스톤디자인(2)\\recommendation\n"
     ]
    }
   ],
   "source": [
    "cd D:\\[졸작] 캡스톤디자인(2)\\recommendation"
   ]
  },
  {
   "cell_type": "code",
   "execution_count": 98,
   "metadata": {},
   "outputs": [
    {
     "name": "stdout",
     "output_type": "stream",
     "text": [
      "   index_id            name           address  phone_number  \\\n",
      "0         0             키사스   인천 연수구 송도동 12-8  032-672-2782   \n",
      "1         1    일품양평해장국 인천대점     인천 연수구 송도동 13  032-214-0359   \n",
      "2         2       스노우폭스 송도점  인천 연수구 송도동 13-58  032-710-6464   \n",
      "3         3     오백국수 송도인천대점  인천 연수구 송도동 13-58  032-859-7788   \n",
      "4         4  맘스터치 인천대제3기숙사점   인천 연수구 송도동 12-1  032-858-3211   \n",
      "\n",
      "              category_name  restaurant_id  \\\n",
      "0        음식점 > 술집 > 호프,요리주점      254068984   \n",
      "1  음식점 > 한식 > 해장국 > 일품양평해장국      945337337   \n",
      "2           음식점 > 일식 > 초밥,롤     2127869213   \n",
      "3             음식점 > 한식 > 국수      111989094   \n",
      "4        음식점 > 패스트푸드 > 맘스터치      355891575   \n",
      "\n",
      "                               place_url  Unnamed: 7  Unnamed: 8  Unnamed: 9  \\\n",
      "0   http://place.map.kakao.com/254068984         NaN         NaN         NaN   \n",
      "1   http://place.map.kakao.com/945337337         NaN         NaN         NaN   \n",
      "2  http://place.map.kakao.com/2127869213         NaN         NaN         NaN   \n",
      "3   http://place.map.kakao.com/111989094         NaN         NaN         NaN   \n",
      "4   http://place.map.kakao.com/355891575         NaN         NaN         NaN   \n",
      "\n",
      "   Unnamed: 10  Unnamed: 11  Unnamed: 12               Unnamed: 13  \n",
      "0          NaN          NaN          NaN                       NaN  \n",
      "1          NaN          NaN          NaN                       NaN  \n",
      "2          NaN          NaN          NaN     쉐푸드, 고집, 멜팅그릴, 포썸, 팔뚝  \n",
      "3          NaN          NaN          NaN  학식 변동없는 음식 : 국밥, 치킨, 떡볶이  \n",
      "4          NaN          NaN          NaN                       NaN  \n"
     ]
    }
   ],
   "source": [
    "data = pd.read_csv(\"../data collection/restaurant_db.csv\", encoding='cp949')\n",
    "print(data.head())"
   ]
  },
  {
   "cell_type": "code",
   "execution_count": 99,
   "metadata": {},
   "outputs": [
    {
     "name": "stdout",
     "output_type": "stream",
     "text": [
      "             name             category_name\n",
      "0             키사스        음식점 > 술집 > 호프,요리주점\n",
      "1    일품양평해장국 인천대점  음식점 > 한식 > 해장국 > 일품양평해장국\n",
      "2       스노우폭스 송도점           음식점 > 일식 > 초밥,롤\n",
      "3     오백국수 송도인천대점             음식점 > 한식 > 국수\n",
      "4  맘스터치 인천대제3기숙사점        음식점 > 패스트푸드 > 맘스터치\n"
     ]
    }
   ],
   "source": [
    "data = data[['name', 'category_name']]\n",
    "print(data.head())"
   ]
  },
  {
   "cell_type": "code",
   "execution_count": 100,
   "metadata": {},
   "outputs": [
    {
     "name": "stdout",
     "output_type": "stream",
     "text": [
      "name             0\n",
      "category_name    0\n",
      "dtype: int64\n"
     ]
    }
   ],
   "source": [
    "print(data.isnull().sum())"
   ]
  },
  {
   "cell_type": "code",
   "execution_count": 102,
   "metadata": {},
   "outputs": [],
   "source": [
    "data = data.dropna()"
   ]
  },
  {
   "cell_type": "code",
   "execution_count": 104,
   "metadata": {},
   "outputs": [],
   "source": [
    "feature = data['category_name'].tolist()\n",
    "rest = text.TfidfVectorizer(input=feature)\n",
    "rest_matrix = rest.fit_transform(feature)\n",
    "similarity = cosine_similarity(rest_matrix)"
   ]
  },
  {
   "cell_type": "code",
   "execution_count": 105,
   "metadata": {},
   "outputs": [],
   "source": [
    "indices = pd.Series(data.index, index=data['name']).drop_duplicates()"
   ]
  },
  {
   "cell_type": "code",
   "execution_count": 107,
   "metadata": {},
   "outputs": [],
   "source": [
    "def restaurant_recommendation(name, similarity = similarity):\n",
    "    index = indices[name]\n",
    "    similarity_scores = list(enumerate(similarity[index]))\n",
    "    similarity_scores = sorted(similarity_scores, key=lambda x: x[1], reverse=True)\n",
    "    similarity_scores = similarity_scores[0:10]\n",
    "    restaurantindices = [i[0] for i in similarity_scores]\n",
    "    return data['name'].iloc[restaurantindices]"
   ]
  },
  {
   "cell_type": "code",
   "execution_count": 110,
   "metadata": {},
   "outputs": [
    {
     "name": "stdout",
     "output_type": "stream",
     "text": [
      "4       맘스터치 인천대제3기숙사점\n",
      "14                맥스송도\n",
      "10                미소푸드\n",
      "11    인천대학교 송도캠퍼스 학생식당\n",
      "6          토마토도시락 인천대점\n",
      "3          오백국수 송도인천대점\n",
      "2            스노우폭스 송도점\n",
      "5             샐러디 인천대점\n",
      "8             샹차이 인천대점\n",
      "13       공씨네주먹밥 인천대학교점\n",
      "Name: name, dtype: object\n"
     ]
    }
   ],
   "source": [
    "print(restaurant_recommendation(\"맘스터치 인천대제3기숙사점\"))"
   ]
  },
  {
   "cell_type": "code",
   "execution_count": 111,
   "metadata": {},
   "outputs": [
    {
     "name": "stdout",
     "output_type": "stream",
     "text": [
      "10                미소푸드\n",
      "11    인천대학교 송도캠퍼스 학생식당\n",
      "14                맥스송도\n",
      "6          토마토도시락 인천대점\n",
      "3          오백국수 송도인천대점\n",
      "2            스노우폭스 송도점\n",
      "4       맘스터치 인천대제3기숙사점\n",
      "5             샐러디 인천대점\n",
      "8             샹차이 인천대점\n",
      "13       공씨네주먹밥 인천대학교점\n",
      "Name: name, dtype: object\n"
     ]
    }
   ],
   "source": [
    "print(restaurant_recommendation(\"미소푸드\"))"
   ]
  }
 ],
 "metadata": {
  "kernelspec": {
   "display_name": "Python 3 (ipykernel)",
   "language": "python",
   "name": "python3"
  },
  "language_info": {
   "codemirror_mode": {
    "name": "ipython",
    "version": 3
   },
   "file_extension": ".py",
   "mimetype": "text/x-python",
   "name": "python",
   "nbconvert_exporter": "python",
   "pygments_lexer": "ipython3",
   "version": "3.9.12"
  },
  "vscode": {
   "interpreter": {
    "hash": "f2473b9a2fa72a89b7cb01eeaf22720158ae3a74f5d679d7a459ffd3919ec650"
   }
  }
 },
 "nbformat": 4,
 "nbformat_minor": 2
}
