{
 "cells": [
  {
   "cell_type": "markdown",
   "metadata": {},
   "source": [
    "## Menu Recommendation"
   ]
  },
  {
   "cell_type": "code",
   "execution_count": 2,
   "metadata": {},
   "outputs": [],
   "source": [
    "import numpy as np\n",
    "import pandas as pd\n",
    "from sklearn.feature_extraction import text\n",
    "from sklearn.metrics.pairwise import cosine_similarity\n",
    "\n",
    "import warnings\n",
    "warnings.filterwarnings('ignore')"
   ]
  },
  {
   "cell_type": "markdown",
   "metadata": {},
   "source": [
    "### Import Data"
   ]
  },
  {
   "cell_type": "code",
   "execution_count": 3,
   "metadata": {},
   "outputs": [
    {
     "name": "stdout",
     "output_type": "stream",
     "text": [
      "D:\\[졸작] 캡스톤디자인(2)\\recommendation\n"
     ]
    }
   ],
   "source": [
    "cd D:\\[졸작] 캡스톤디자인(2)\\recommendation"
   ]
  },
  {
   "cell_type": "code",
   "execution_count": 4,
   "metadata": {},
   "outputs": [
    {
     "name": "stdout",
     "output_type": "stream",
     "text": [
      "   id  restaurant_id category      menu  price restaurant_name\n",
      "0   1              1       국밥     양평해장국   9000    일품양평해장국 인천대점\n",
      "1   2              1       국밥  양평해장국(특)  10000    일품양평해장국 인천대점\n",
      "2   3              1       국밥    뼈다귀해장국  10000    일품양평해장국 인천대점\n",
      "3   4              1       국밥     얼큰순대국   9000    일품양평해장국 인천대점\n",
      "4   5              1       국밥       내장탕  13000    일품양평해장국 인천대점\n"
     ]
    }
   ],
   "source": [
    "data = pd.read_csv(\"../data collection/data/menu_db.csv\", sep=',', encoding='cp949')\n",
    "print(data.head())"
   ]
  },
  {
   "cell_type": "code",
   "execution_count": 5,
   "metadata": {},
   "outputs": [
    {
     "name": "stdout",
     "output_type": "stream",
     "text": [
      "<class 'pandas.core.frame.DataFrame'>\n",
      "RangeIndex: 339 entries, 0 to 338\n",
      "Data columns (total 6 columns):\n",
      " #   Column           Non-Null Count  Dtype \n",
      "---  ------           --------------  ----- \n",
      " 0   id               339 non-null    int64 \n",
      " 1   restaurant_id    339 non-null    int64 \n",
      " 2   category         339 non-null    object\n",
      " 3   menu             339 non-null    object\n",
      " 4   price            339 non-null    int64 \n",
      " 5   restaurant_name  339 non-null    object\n",
      "dtypes: int64(3), object(3)\n",
      "memory usage: 16.0+ KB\n"
     ]
    }
   ],
   "source": [
    "data.info()"
   ]
  },
  {
   "cell_type": "code",
   "execution_count": 6,
   "metadata": {},
   "outputs": [
    {
     "name": "stdout",
     "output_type": "stream",
     "text": [
      "  category      menu restaurant_name\n",
      "0       국밥     양평해장국    일품양평해장국 인천대점\n",
      "1       국밥  양평해장국(특)    일품양평해장국 인천대점\n",
      "2       국밥    뼈다귀해장국    일품양평해장국 인천대점\n",
      "3       국밥     얼큰순대국    일품양평해장국 인천대점\n",
      "4       국밥       내장탕    일품양평해장국 인천대점\n"
     ]
    }
   ],
   "source": [
    "data = data[['category', 'menu', 'restaurant_name']]\n",
    "print(data.head())"
   ]
  },
  {
   "cell_type": "code",
   "execution_count": 7,
   "metadata": {},
   "outputs": [
    {
     "name": "stdout",
     "output_type": "stream",
     "text": [
      "category           0\n",
      "menu               0\n",
      "restaurant_name    0\n",
      "dtype: int64\n"
     ]
    }
   ],
   "source": [
    "print(data.isnull().sum())"
   ]
  },
  {
   "cell_type": "code",
   "execution_count": 8,
   "metadata": {},
   "outputs": [],
   "source": [
    "data = data.dropna()"
   ]
  },
  {
   "cell_type": "markdown",
   "metadata": {},
   "source": [
    "### Based On 'Category'"
   ]
  },
  {
   "cell_type": "code",
   "execution_count": 9,
   "metadata": {},
   "outputs": [],
   "source": [
    "feature = data['category'].tolist()\n",
    "rest = text.TfidfVectorizer(input=feature)\n",
    "rest_matrix = rest.fit_transform(feature)\n",
    "similarity = cosine_similarity(rest_matrix)"
   ]
  },
  {
   "cell_type": "code",
   "execution_count": 11,
   "metadata": {},
   "outputs": [
    {
     "data": {
      "text/plain": [
       "TfidfVectorizer(input=['국밥', '국밥', '국밥', '국밥', '국밥', '국밥', '고기', '고기', '고기',\n",
       "                       '고기', '사이드', '일식', '일식', '일식', '일식', '일식', '일식', '일식',\n",
       "                       '일식', '일식', '샐러드', '샐러드', '샐러드', '샐러드', '샐러드', '샌드위치',\n",
       "                       '샌드위치', '일식', '일식', '일식', ...])"
      ]
     },
     "execution_count": 11,
     "metadata": {},
     "output_type": "execute_result"
    }
   ],
   "source": [
    "rest"
   ]
  },
  {
   "cell_type": "code",
   "execution_count": 12,
   "metadata": {},
   "outputs": [
    {
     "data": {
      "text/plain": [
       "<339x20 sparse matrix of type '<class 'numpy.float64'>'\n",
       "\twith 335 stored elements in Compressed Sparse Row format>"
      ]
     },
     "execution_count": 12,
     "metadata": {},
     "output_type": "execute_result"
    }
   ],
   "source": [
    "rest_matrix"
   ]
  },
  {
   "cell_type": "code",
   "execution_count": 13,
   "metadata": {},
   "outputs": [
    {
     "data": {
      "text/plain": [
       "array([[1., 1., 1., ..., 1., 1., 1.],\n",
       "       [1., 1., 1., ..., 1., 1., 1.],\n",
       "       [1., 1., 1., ..., 1., 1., 1.],\n",
       "       ...,\n",
       "       [1., 1., 1., ..., 1., 1., 1.],\n",
       "       [1., 1., 1., ..., 1., 1., 1.],\n",
       "       [1., 1., 1., ..., 1., 1., 1.]])"
      ]
     },
     "execution_count": 13,
     "metadata": {},
     "output_type": "execute_result"
    }
   ],
   "source": [
    "similarity"
   ]
  },
  {
   "cell_type": "code",
   "execution_count": 15,
   "metadata": {},
   "outputs": [],
   "source": [
    "indices = pd.Series(data.index, index=data['menu']).drop_duplicates() # 중복 행 제거"
   ]
  },
  {
   "cell_type": "code",
   "execution_count": 16,
   "metadata": {},
   "outputs": [
    {
     "data": {
      "text/plain": [
       "menu\n",
       "양평해장국         0\n",
       "양평해장국(특)      1\n",
       "뼈다귀해장국        2\n",
       "얼큰순대국         3\n",
       "내장탕           4\n",
       "           ... \n",
       "삼겹살덮밥       334\n",
       "육회비빔밥       335\n",
       "순두부국밥       336\n",
       "우동국밥        337\n",
       "수육곰탕        338\n",
       "Length: 339, dtype: int64"
      ]
     },
     "execution_count": 16,
     "metadata": {},
     "output_type": "execute_result"
    }
   ],
   "source": [
    "indices"
   ]
  },
  {
   "cell_type": "code",
   "execution_count": 17,
   "metadata": {},
   "outputs": [],
   "source": [
    "def menu_recommendation(name, similarity = similarity):\n",
    "    index = indices[name]\n",
    "    similarity_scores = list(enumerate(similarity[index]))\n",
    "    similarity_scores = sorted(similarity_scores, key=lambda x: x[1], reverse=True)\n",
    "    similarity_scores = similarity_scores[0:10]\n",
    "    restaurantindices = [i[0] for i in similarity_scores]\n",
    "    return data['menu'].iloc[restaurantindices]"
   ]
  },
  {
   "cell_type": "code",
   "execution_count": 18,
   "metadata": {},
   "outputs": [
    {
     "name": "stdout",
     "output_type": "stream",
     "text": [
      "0         양평해장국\n",
      "1      양평해장국(특)\n",
      "2        뼈다귀해장국\n",
      "3         얼큰순대국\n",
      "4           내장탕\n",
      "5           육개장\n",
      "237        순대국밥\n",
      "238        수육국밥\n",
      "239        얼큰국밥\n",
      "336       순두부국밥\n",
      "Name: menu, dtype: object\n"
     ]
    }
   ],
   "source": [
    "print(menu_recommendation(\"양평해장국\"))"
   ]
  },
  {
   "cell_type": "code",
   "execution_count": 19,
   "metadata": {},
   "outputs": [
    {
     "name": "stdout",
     "output_type": "stream",
     "text": [
      "41       칼만두굿\n",
      "45       떡만두국\n",
      "47     감자고기만두\n",
      "48       김치만두\n",
      "49       갈비만두\n",
      "253      교자만두\n",
      "254      갈비만두\n",
      "255      튀김만두\n",
      "333       물만두\n",
      "0       양평해장국\n",
      "Name: menu, dtype: object\n"
     ]
    }
   ],
   "source": [
    "print(menu_recommendation(\"김치만두\"))"
   ]
  },
  {
   "cell_type": "code",
   "execution_count": null,
   "metadata": {},
   "outputs": [],
   "source": []
  }
 ],
 "metadata": {
  "kernelspec": {
   "display_name": "capston",
   "language": "python",
   "name": "capston"
  },
  "language_info": {
   "codemirror_mode": {
    "name": "ipython",
    "version": 3
   },
   "file_extension": ".py",
   "mimetype": "text/x-python",
   "name": "python",
   "nbconvert_exporter": "python",
   "pygments_lexer": "ipython3",
   "version": "3.7.16"
  },
  "vscode": {
   "interpreter": {
    "hash": "f2473b9a2fa72a89b7cb01eeaf22720158ae3a74f5d679d7a459ffd3919ec650"
   }
  }
 },
 "nbformat": 4,
 "nbformat_minor": 2
}
