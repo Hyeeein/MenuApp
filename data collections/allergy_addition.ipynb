{
 "cells": [
  {
   "cell_type": "markdown",
   "id": "f104e2d0",
   "metadata": {},
   "source": [
    "## nutrient.csv 파일에 알러지 컬럼 추가"
   ]
  },
  {
   "cell_type": "markdown",
   "id": "5d59e088",
   "metadata": {},
   "source": [
    "알러지 종류 : 달걀, 우유, 밀, 콩, 땅콩, 호두, 아몬드, 생선, 조개, 새우, 게"
   ]
  },
  {
   "cell_type": "code",
   "execution_count": 1,
   "id": "e16b3376",
   "metadata": {},
   "outputs": [],
   "source": [
    "import numpy as np\n",
    "import pandas as pd"
   ]
  },
  {
   "cell_type": "code",
   "execution_count": 55,
   "id": "4a787110",
   "metadata": {},
   "outputs": [
    {
     "data": {
      "text/html": [
       "<div>\n",
       "<style scoped>\n",
       "    .dataframe tbody tr th:only-of-type {\n",
       "        vertical-align: middle;\n",
       "    }\n",
       "\n",
       "    .dataframe tbody tr th {\n",
       "        vertical-align: top;\n",
       "    }\n",
       "\n",
       "    .dataframe thead th {\n",
       "        text-align: right;\n",
       "    }\n",
       "</style>\n",
       "<table border=\"1\" class=\"dataframe\">\n",
       "  <thead>\n",
       "    <tr style=\"text-align: right;\">\n",
       "      <th></th>\n",
       "      <th>id</th>\n",
       "      <th>name</th>\n",
       "      <th>menu</th>\n",
       "      <th>gram</th>\n",
       "      <th>calorie</th>\n",
       "      <th>carbohydrate</th>\n",
       "      <th>protein</th>\n",
       "      <th>fat</th>\n",
       "      <th>saturatedfat</th>\n",
       "      <th>unsaturatedfat</th>\n",
       "      <th>cholesterol</th>\n",
       "      <th>sodium</th>\n",
       "      <th>potash</th>\n",
       "      <th>ingredient</th>\n",
       "    </tr>\n",
       "  </thead>\n",
       "  <tbody>\n",
       "    <tr>\n",
       "      <th>0</th>\n",
       "      <td>1</td>\n",
       "      <td>뼈해장국</td>\n",
       "      <td>3.0</td>\n",
       "      <td>300.0</td>\n",
       "      <td>315.0</td>\n",
       "      <td>7.10</td>\n",
       "      <td>39.940</td>\n",
       "      <td>13.540</td>\n",
       "      <td>4.480</td>\n",
       "      <td>6.0900</td>\n",
       "      <td>106.0</td>\n",
       "      <td>2420.0</td>\n",
       "      <td>626.0</td>\n",
       "      <td>돼지고기, 우거지, 대파, 마늘</td>\n",
       "    </tr>\n",
       "    <tr>\n",
       "      <th>1</th>\n",
       "      <td>2</td>\n",
       "      <td>양평해장국</td>\n",
       "      <td>1.0</td>\n",
       "      <td>500.0</td>\n",
       "      <td>662.0</td>\n",
       "      <td>16.47</td>\n",
       "      <td>83.210</td>\n",
       "      <td>28.560</td>\n",
       "      <td>9.360</td>\n",
       "      <td>12.7370</td>\n",
       "      <td>222.0</td>\n",
       "      <td>4199.0</td>\n",
       "      <td>1363.0</td>\n",
       "      <td>마늘, 생강, 대파</td>\n",
       "    </tr>\n",
       "    <tr>\n",
       "      <th>2</th>\n",
       "      <td>3</td>\n",
       "      <td>양평해장국(특)</td>\n",
       "      <td>2.0</td>\n",
       "      <td>600.0</td>\n",
       "      <td>794.4</td>\n",
       "      <td>197.64</td>\n",
       "      <td>99.852</td>\n",
       "      <td>34.272</td>\n",
       "      <td>11.232</td>\n",
       "      <td>15.2844</td>\n",
       "      <td>266.4</td>\n",
       "      <td>5038.8</td>\n",
       "      <td>1635.6</td>\n",
       "      <td>마늘, 생강, 대파</td>\n",
       "    </tr>\n",
       "    <tr>\n",
       "      <th>3</th>\n",
       "      <td>4</td>\n",
       "      <td>얼큰순대국</td>\n",
       "      <td>4.0</td>\n",
       "      <td>300.0</td>\n",
       "      <td>328.0</td>\n",
       "      <td>33.78</td>\n",
       "      <td>23.250</td>\n",
       "      <td>10.350</td>\n",
       "      <td>3.615</td>\n",
       "      <td>3.1450</td>\n",
       "      <td>439.0</td>\n",
       "      <td>1953.0</td>\n",
       "      <td>485.0</td>\n",
       "      <td>순대, 사골, 마늘, 대파, 쌀, 돼지고기</td>\n",
       "    </tr>\n",
       "    <tr>\n",
       "      <th>4</th>\n",
       "      <td>5</td>\n",
       "      <td>육개장</td>\n",
       "      <td>6.0</td>\n",
       "      <td>200.0</td>\n",
       "      <td>165.0</td>\n",
       "      <td>10.45</td>\n",
       "      <td>14.320</td>\n",
       "      <td>7.570</td>\n",
       "      <td>2.083</td>\n",
       "      <td>3.2890</td>\n",
       "      <td>20.0</td>\n",
       "      <td>720.0</td>\n",
       "      <td>429.0</td>\n",
       "      <td>소고기, 고사리, 대파, 숙주</td>\n",
       "    </tr>\n",
       "  </tbody>\n",
       "</table>\n",
       "</div>"
      ],
      "text/plain": [
       "   id      name  menu   gram  calorie  carbohydrate  protein     fat  \\\n",
       "0   1      뼈해장국   3.0  300.0    315.0          7.10   39.940  13.540   \n",
       "1   2     양평해장국   1.0  500.0    662.0         16.47   83.210  28.560   \n",
       "2   3  양평해장국(특)   2.0  600.0    794.4        197.64   99.852  34.272   \n",
       "3   4     얼큰순대국   4.0  300.0    328.0         33.78   23.250  10.350   \n",
       "4   5       육개장   6.0  200.0    165.0         10.45   14.320   7.570   \n",
       "\n",
       "   saturatedfat  unsaturatedfat  cholesterol  sodium  potash  \\\n",
       "0         4.480          6.0900        106.0  2420.0   626.0   \n",
       "1         9.360         12.7370        222.0  4199.0  1363.0   \n",
       "2        11.232         15.2844        266.4  5038.8  1635.6   \n",
       "3         3.615          3.1450        439.0  1953.0   485.0   \n",
       "4         2.083          3.2890         20.0   720.0   429.0   \n",
       "\n",
       "                ingredient  \n",
       "0        돼지고기, 우거지, 대파, 마늘  \n",
       "1               마늘, 생강, 대파  \n",
       "2               마늘, 생강, 대파  \n",
       "3  순대, 사골, 마늘, 대파, 쌀, 돼지고기  \n",
       "4         소고기, 고사리, 대파, 숙주  "
      ]
     },
     "execution_count": 55,
     "metadata": {},
     "output_type": "execute_result"
    }
   ],
   "source": [
    "data = pd.read_csv('./nutrient.csv', encoding='cp949')\n",
    "data.head()"
   ]
  },
  {
   "cell_type": "code",
   "execution_count": 56,
   "id": "74345b2a",
   "metadata": {},
   "outputs": [
    {
     "name": "stdout",
     "output_type": "stream",
     "text": [
      "<class 'pandas.core.frame.DataFrame'>\n",
      "RangeIndex: 322 entries, 0 to 321\n",
      "Data columns (total 14 columns):\n",
      " #   Column          Non-Null Count  Dtype  \n",
      "---  ------          --------------  -----  \n",
      " 0   id              322 non-null    int64  \n",
      " 1   name            322 non-null    object \n",
      " 2   menu            319 non-null    float64\n",
      " 3   gram            322 non-null    float64\n",
      " 4   calorie         322 non-null    float64\n",
      " 5   carbohydrate    259 non-null    float64\n",
      " 6   protein         322 non-null    float64\n",
      " 7   fat             259 non-null    float64\n",
      " 8   saturatedfat    286 non-null    float64\n",
      " 9   unsaturatedfat  135 non-null    float64\n",
      " 10  cholesterol     187 non-null    float64\n",
      " 11  sodium          316 non-null    float64\n",
      " 12  potash          148 non-null    float64\n",
      " 13  ingredient      322 non-null    object \n",
      "dtypes: float64(11), int64(1), object(2)\n",
      "memory usage: 35.3+ KB\n"
     ]
    }
   ],
   "source": [
    "data.info()"
   ]
  },
  {
   "cell_type": "markdown",
   "id": "37f00ef1",
   "metadata": {},
   "source": [
    "알레르기 유발 재료가 있을 경우, 알레르기 컬럼에 위험 알레르기 추가"
   ]
  },
  {
   "cell_type": "code",
   "execution_count": 87,
   "id": "36b6a871",
   "metadata": {},
   "outputs": [],
   "source": [
    "# 알러지 정보가 들어갈 열 추가\n",
    "data['allergy'] = \"\""
   ]
  },
  {
   "cell_type": "code",
   "execution_count": 89,
   "id": "4f15a8e8",
   "metadata": {},
   "outputs": [
    {
     "name": "stdout",
     "output_type": "stream",
     "text": [
      "<class 'pandas.core.frame.DataFrame'>\n",
      "RangeIndex: 322 entries, 0 to 321\n",
      "Data columns (total 15 columns):\n",
      " #   Column          Non-Null Count  Dtype  \n",
      "---  ------          --------------  -----  \n",
      " 0   id              322 non-null    int64  \n",
      " 1   name            322 non-null    object \n",
      " 2   menu            319 non-null    float64\n",
      " 3   gram            322 non-null    float64\n",
      " 4   calorie         322 non-null    float64\n",
      " 5   carbohydrate    259 non-null    float64\n",
      " 6   protein         322 non-null    float64\n",
      " 7   fat             259 non-null    float64\n",
      " 8   saturatedfat    286 non-null    float64\n",
      " 9   unsaturatedfat  135 non-null    float64\n",
      " 10  cholesterol     187 non-null    float64\n",
      " 11  sodium          316 non-null    float64\n",
      " 12  potash          148 non-null    float64\n",
      " 13  ingredient      322 non-null    object \n",
      " 14  allergy         322 non-null    object \n",
      "dtypes: float64(11), int64(1), object(3)\n",
      "memory usage: 37.9+ KB\n"
     ]
    }
   ],
   "source": [
    "# 열이 제대로 추가되었는지 확인\n",
    "data.info()"
   ]
  },
  {
   "cell_type": "code",
   "execution_count": 90,
   "id": "e8b1ae7c",
   "metadata": {},
   "outputs": [
    {
     "data": {
      "text/plain": [
       "id                  0\n",
       "name                0\n",
       "menu                3\n",
       "gram                0\n",
       "calorie             0\n",
       "carbohydrate       63\n",
       "protein             0\n",
       "fat                63\n",
       "saturatedfat       36\n",
       "unsaturatedfat    187\n",
       "cholesterol       135\n",
       "sodium              6\n",
       "potash            174\n",
       "ingredient          0\n",
       "allergy             0\n",
       "dtype: int64"
      ]
     },
     "execution_count": 90,
     "metadata": {},
     "output_type": "execute_result"
    }
   ],
   "source": [
    "# 결측치 데이터가 얼마나 되는지 확인\n",
    "data.isnull().sum()"
   ]
  },
  {
   "cell_type": "code",
   "execution_count": 114,
   "id": "4782f6fa",
   "metadata": {},
   "outputs": [
    {
     "name": "stderr",
     "output_type": "stream",
     "text": [
      "C:\\Users\\phi49\\anaconda3\\envs\\capston\\lib\\site-packages\\ipykernel_launcher.py:58: SettingWithCopyWarning: \n",
      "A value is trying to be set on a copy of a slice from a DataFrame\n",
      "\n",
      "See the caveats in the documentation: https://pandas.pydata.org/pandas-docs/stable/user_guide/indexing.html#returning-a-view-versus-a-copy\n"
     ]
    }
   ],
   "source": [
    "for i in range(len(data)):\n",
    "    # 재료가 object 타입이므로, string으로 변환 후 사용\n",
    "    ingredient = str(data['ingredient'][i]).split(\",\")\n",
    "    \n",
    "    # 분할한 재료 리스트 앞뒤 공백 제거\n",
    "    new_ingre = []\n",
    "    for j in ingredient:\n",
    "        detail = j.strip()\n",
    "        new_ingre.append(detail)\n",
    "    \n",
    "    # 재료 리스트들은 모두 new_ingre 변수에 저장\n",
    "    # 재료의 개수만큼 for문 반복\n",
    "    allergy_list = []\n",
    "    \n",
    "    for k in new_ingre:\n",
    "        # 1. 달걀 알러지\n",
    "        if ('달걀' in k) or ('메추리알' in k):\n",
    "            allergy_list.append('달걀')\n",
    "            \n",
    "        # 2. 우유 알러지\n",
    "        if ('우유' in k) or ('치즈' in k) or ('크림치즈' in k):\n",
    "            allergy_list.append('우유')\n",
    "\n",
    "        # 3. 밀 알러지\n",
    "        if '밀가루' in k:\n",
    "            allergy_list.append('밀')\n",
    "\n",
    "        # 4. 콩 알러지\n",
    "        if ('콩' in k) or ('된장' in k) or ('간장' in k) or ('두부' in k) :\n",
    "            allergy_list.append('콩')\n",
    "\n",
    "        # 5. 땅콩, 대두 알러지\n",
    "        if ('땅콩' in k) or ('호두' in k) or ('견과류' in k):\n",
    "            allergy_list.append('땅콩')\n",
    "\n",
    "        # 6. 생선 알러지\n",
    "        if ('날치알' in k) or ('멸치' in k) or ('연어' in k) or ('장어' in k) or ('장어' in k) or ('참치' in k) or ('훈제연어' in k) or ('가쓰오부시' in k) :\n",
    "            allergy_list.append('생선')\n",
    "        \n",
    "        # 7. 고기 알러지\n",
    "        if ('닭고기' in k) or ('돼지고기' in k) or ('소시지' in k) or ('햄' in k) or ('장조림' in k) :\n",
    "            allergy_list.append('고기')\n",
    "        \n",
    "        # 8. 조개 알러지\n",
    "        if '조개' in k:\n",
    "            allergy_list.append('조개')\n",
    "\n",
    "        # 9. 갑각류 알러지\n",
    "        if '초새우' in k:\n",
    "            allergy_list.append('갑각류')\n",
    "        \n",
    "    allergy_list = ','.join(allergy_list)\n",
    "    \n",
    "    # 만약 알러지 유발 재료가 없는 경우, 결측치로 채움\n",
    "    if allergy_list == \"\":\n",
    "        allergy_list = np.NaN\n",
    "        \n",
    "    data['allergy'][i] = allergy_list"
   ]
  },
  {
   "cell_type": "code",
   "execution_count": 115,
   "id": "41e9d9f1",
   "metadata": {},
   "outputs": [
    {
     "data": {
      "text/plain": [
       "id                  0\n",
       "name                0\n",
       "menu                3\n",
       "gram                0\n",
       "calorie             0\n",
       "carbohydrate       63\n",
       "protein             0\n",
       "fat                63\n",
       "saturatedfat       36\n",
       "unsaturatedfat    187\n",
       "cholesterol       135\n",
       "sodium              6\n",
       "potash            174\n",
       "ingredient          0\n",
       "allergy            35\n",
       "dtype: int64"
      ]
     },
     "execution_count": 115,
     "metadata": {},
     "output_type": "execute_result"
    }
   ],
   "source": [
    "data.isnull().sum()"
   ]
  },
  {
   "cell_type": "code",
   "execution_count": 117,
   "id": "24647a3c",
   "metadata": {},
   "outputs": [],
   "source": [
    "data.to_csv('nutrient_new.csv', index=False, encoding='utf-8-sig')"
   ]
  }
 ],
 "metadata": {
  "kernelspec": {
   "display_name": "capston",
   "language": "python",
   "name": "capston"
  },
  "language_info": {
   "codemirror_mode": {
    "name": "ipython",
    "version": 3
   },
   "file_extension": ".py",
   "mimetype": "text/x-python",
   "name": "python",
   "nbconvert_exporter": "python",
   "pygments_lexer": "ipython3",
   "version": "3.7.16"
  }
 },
 "nbformat": 4,
 "nbformat_minor": 5
}
